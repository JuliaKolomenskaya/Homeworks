{
 "cells": [
  {
   "cell_type": "code",
   "execution_count": 1,
   "metadata": {},
   "outputs": [
    {
     "name": "stdout",
     "output_type": "stream",
     "text": [
      "152306059688877178546937602051034186326923521435051796008683776668495932501540983181226413470429951285957678676158444927401030932176125903419424850775906673575648393922300520881171025393368419750265852622353944565373629072078124904199590876179327103627454454616378729582129130004709641881279837154632554964667383830092180135105219692886380347205637655474718388930602231140205729743891480857256642756\n"
     ]
    }
   ],
   "source": [
    "#ЗАДАЧА №1\n",
    "\n",
    "s = '1234'*50\n",
    "n = int(s)\n",
    "print(n**2)"
   ]
  },
  {
   "cell_type": "code",
   "execution_count": 4,
   "metadata": {
    "collapsed": true
   },
   "outputs": [],
   "source": [
    "#ЗАДАЧА №2\n",
    "\n",
    "def function_1(n):\n",
    "    a = 1\n",
    "    result = 0\n",
    "    for i in range(1,n+1):\n",
    "        a = a*i\n",
    "        result += a\n",
    "    return result\n",
    "\n",
    "assert function_1(1) == 1\n",
    "assert function_1(3) == 9"
   ]
  },
  {
   "cell_type": "code",
   "execution_count": 5,
   "metadata": {
    "collapsed": true
   },
   "outputs": [],
   "source": [
    "#ЗАДАЧА №3\n",
    "\n",
    "def function_2(list_of_numbers):\n",
    "    count = 0\n",
    "    summa = 0\n",
    "    for i in list_of_numbers:\n",
    "        if i < 0:\n",
    "            count += 1\n",
    "            summa += i\n",
    "    if count == 0:\n",
    "        mean = 0\n",
    "    else:\n",
    "        mean = summa / count\n",
    "    return mean\n",
    "\n",
    "assert function_2([]) == 0\n",
    "assert function_2([1, -1, -3, 3]) == -2\n",
    "assert function_2([0, 0, -1, 0]) == -1\n",
    "assert function_2([4, 1000, 3, 6]) == 0\n",
    "assert function_2([-4, -1000, -3, -6]) == -253.25"
   ]
  },
  {
   "cell_type": "code",
   "execution_count": 6,
   "metadata": {
    "collapsed": true
   },
   "outputs": [],
   "source": [
    "#ЗАДАЧА №4\n",
    "\n",
    "def function_3(point_1, point_2):\n",
    "    import math\n",
    "    square_distance = 0\n",
    "    preset = list(zip(point_1, point_2))\n",
    "    for i in preset:\n",
    "        square_distance += (i[1]-i[0])**2\n",
    "    \n",
    "    distance = math.sqrt(square_distance)\n",
    "        \n",
    "    return distance\n",
    "\n",
    "assert function_3((1, 0), (2, 0)) == 1\n",
    "assert function_3((3, 6, 8, 2, 1), (4, 0, -1, 7, 0)) == 12"
   ]
  },
  {
   "cell_type": "code",
   "execution_count": 7,
   "metadata": {
    "collapsed": true
   },
   "outputs": [],
   "source": [
    "#ЗАДАЧА №5\n",
    "\n",
    "def function_4(binary_list):\n",
    "    \n",
    "    count_length = 0\n",
    "    len_ones_sequence = 0\n",
    "    count_index = 0\n",
    "    end_index = 0\n",
    "    \n",
    "    for i, value in enumerate(binary_list):\n",
    "        if value == 1:\n",
    "            count_length += 1\n",
    "            count_index = i\n",
    "            if i == len(binary_list)-1 and len_ones_sequence < count_length:\n",
    "                len_ones_sequence = count_length\n",
    "                end_index = i\n",
    "        else:\n",
    "            if len_ones_sequence < count_length:\n",
    "                len_ones_sequence = count_length\n",
    "                end_index = count_index\n",
    "                \n",
    "            count_index = 0\n",
    "            count_length = 0\n",
    "                \n",
    "            continue\n",
    "        \n",
    "    begin_index = (end_index + 1) - len_ones_sequence   \n",
    "    \n",
    "    return len_ones_sequence, begin_index, end_index\n",
    "\n",
    "#Тесты\n",
    "assert function_4([0, 1, 0, 1, 1, 0, 0, 0]) == (2, 3, 4)\n",
    "assert function_4([1, 1, 1, 1, 1, 1, 1, 1]) == (8, 0, 7)\n",
    "assert function_4([1, 0, 1, 0, 0, 1, 1, 1]) == (3, 5, 7)\n",
    "assert function_4([0, 0, 1, 0, 0, 0, 0, 0]) == (1, 2, 2)"
   ]
  },
  {
   "cell_type": "code",
   "execution_count": 8,
   "metadata": {
    "collapsed": true
   },
   "outputs": [],
   "source": [
    "#ЗАДАЧА №6\n",
    "\n",
    "def function_5(matrix):\n",
    "    \n",
    "    empty_matrix = [[0 for j in range(len(matrix))] for i in range(len(matrix[0]))]\n",
    "    \n",
    "    lst = [0] * len(matrix[0])\n",
    "    \n",
    "    for i in range(len(matrix)):\n",
    "        for j in range(len(matrix[i])):\n",
    "            empty_matrix[j][i] = matrix[i][j]\n",
    "            lst[j] += matrix[i][j]\n",
    "    \n",
    "    madness = list(zip(empty_matrix,lst))\n",
    "    madness.sort(key = lambda madness: madness[1])\n",
    "\n",
    "    for i in range(len(madness)):\n",
    "        empty_matrix[i] = madness[i][0]\n",
    "\n",
    "\n",
    "    for i in range(len(empty_matrix)):\n",
    "        for j in range(len(empty_matrix[i])):\n",
    "            matrix[j][i] = empty_matrix[i][j]\n",
    "            \n",
    "    return matrix\n",
    "\n",
    "assert function_5([[5, 0, 1], [1, 1, 1], [2, 2, 0]]) == [[1, 0, 5], [1, 1, 1], [0, 2, 2]]\n",
    "assert function_5([[5, 0, 1], [1, 1, 1], [2, 2, 0], [7, 7, 7]]) == [[1, 0, 5], [1, 1, 1], [0, 2, 2], [7, 7, 7]]\n",
    "assert function_5([[5, 0, 1, 1, 1], [2, 7, 0, 5, 3], [9, 0, 8, 0, 1]]) == [[1, 1, 0, 1, 5], [3, 5, 7, 0, 2], [1, 0, 0, 8, 9]]"
   ]
  },
  {
   "cell_type": "code",
   "execution_count": 9,
   "metadata": {
    "collapsed": true
   },
   "outputs": [],
   "source": [
    "#ЗАДАЧА №7\n",
    "\n",
    "def function_6(S, w):\n",
    "\n",
    "    if S.count(w) == 1:\n",
    "        sort_function = S\n",
    "\n",
    "    elif S.find(w) == -1:\n",
    "        sort_function = -1\n",
    "\n",
    "    else:\n",
    "        first_index = S.find(w)\n",
    "        last_index = S.rfind(w)\n",
    "        middle = S[(first_index+1):last_index]\n",
    "        reverse = middle[::-1]\n",
    "        sort_function = S[:(first_index+1)] + reverse + S[last_index:]\n",
    "    \n",
    "       \n",
    "    \n",
    "    return sort_function\n",
    "\n",
    "assert function_6('abcdefgefg', 'e') == 'abcdegfefg'\n",
    "assert function_6('abcdefgafg', 'a') == 'agfedcbafg'\n",
    "assert function_6('abcdefgefg', 'm') == -1\n",
    "assert function_6('abcdefgefg', 'd') == 'abcdefgefg'\n",
    "assert function_6('abcdaefgfa', 'a') == 'afgfeadcba'"
   ]
  },
  {
   "cell_type": "code",
   "execution_count": null,
   "metadata": {
    "collapsed": true
   },
   "outputs": [],
   "source": [
    "#ЗАДАЧА №8\n",
    "\n",
    "def clean(s):\n",
    "    return s.replace('\\n\\n',' ').replace(',','').replace('.','').replace(':','').replace('\\n','').replace('!','').replace('—',' ').replace('?','').replace(';','')\n",
    "\n",
    "\n",
    "with open ('problem_8_text.txt', 'r') as fl:\n",
    "    text = fl.read()\n",
    "    \n",
    "    raw = clean(text.lower()).split(' ')\n",
    "    raw.sort()\n",
    "    \n",
    "    index = raw.count('')\n",
    "    sorted_words = raw[index:]   \n",
    "    \n",
    "    bag_of_words = set(sorted_words)\n",
    "    \n",
    "    ammount = []\n",
    "    lst = []\n",
    "    for word in sorted_words:\n",
    "        if word in bag_of_words:\n",
    "            ammount.append(sorted_words.count(word))\n",
    "            lst.append(word)\n",
    "            bag_of_words.remove(word)\n",
    "            \n",
    "    almost_done = list(zip(lst, ammount))\n",
    "    almost_done.sort(key = lambda almost_done: almost_done[1], reverse=True)\n",
    "    \n",
    "    for word in almost_done:\n",
    "        print(word[0], '--','количество вхождений:', word[1])"
   ]
  },
  {
   "cell_type": "code",
   "execution_count": null,
   "metadata": {
    "collapsed": true
   },
   "outputs": [],
   "source": []
  }
 ],
 "metadata": {
  "kernelspec": {
   "display_name": "Python 3",
   "language": "python",
   "name": "python3"
  },
  "language_info": {
   "codemirror_mode": {
    "name": "ipython",
    "version": 3
   },
   "file_extension": ".py",
   "mimetype": "text/x-python",
   "name": "python",
   "nbconvert_exporter": "python",
   "pygments_lexer": "ipython3",
   "version": "3.6.2"
  }
 },
 "nbformat": 4,
 "nbformat_minor": 2
}
