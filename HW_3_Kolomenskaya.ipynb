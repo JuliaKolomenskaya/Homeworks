{
 "cells": [
  {
   "cell_type": "markdown",
   "metadata": {},
   "source": [
    "## Домашняя работа 3"
   ]
  },
  {
   "cell_type": "markdown",
   "metadata": {},
   "source": [
    "### VK API"
   ]
  },
  {
   "cell_type": "code",
   "execution_count": 1,
   "metadata": {
    "collapsed": true
   },
   "outputs": [],
   "source": [
    "import vk"
   ]
  },
  {
   "cell_type": "code",
   "execution_count": 2,
   "metadata": {
    "collapsed": true
   },
   "outputs": [],
   "source": [
    "from credentials import *\n",
    "\n",
    "session = vk.AuthSession(id_app, login, password, scope='wall')\n",
    "vk_api = vk.API(session)\n"
   ]
  },
  {
   "cell_type": "markdown",
   "metadata": {},
   "source": [
    "**Задача 1. Формирование корпуса текстов** (10 баллов) \n",
    "\n",
    "Найдите две или более группы, которые публикуют достаточно содержательные посты (например, новости и т.п.). Тематика групп должна быть различной. \n",
    "\n",
    "С помощью [wall.get](https://vk.com/dev/wall.get) скачайте посты данных групп и сформируйте корпуса текстов, используя возможности [pandas](https://pythonspot.com/category/pandas/)."
   ]
  },
  {
   "cell_type": "code",
   "execution_count": 3,
   "metadata": {
    "collapsed": true
   },
   "outputs": [],
   "source": [
    "import pandas as pd"
   ]
  },
  {
   "cell_type": "markdown",
   "metadata": {},
   "source": [
    "РБК"
   ]
  },
  {
   "cell_type": "code",
   "execution_count": 4,
   "metadata": {
    "collapsed": true
   },
   "outputs": [],
   "source": [
    "id_RBK = vk_api.utils.resolveScreenName(v = 5.73, screen_name='rbc')"
   ]
  },
  {
   "cell_type": "code",
   "execution_count": 5,
   "metadata": {},
   "outputs": [
    {
     "data": {
      "text/plain": [
       "{'object_id': 25232578, 'type': 'group'}"
      ]
     },
     "execution_count": 5,
     "metadata": {},
     "output_type": "execute_result"
    }
   ],
   "source": [
    "id_RBK"
   ]
  },
  {
   "cell_type": "code",
   "execution_count": 6,
   "metadata": {
    "collapsed": true
   },
   "outputs": [],
   "source": [
    "RBC = vk_api.wall.get(v = 5.73,\n",
    "                      owner_id = -25232578,\n",
    "                      domain = 'https://vk.com/rbc',\n",
    "                      count = 100)"
   ]
  },
  {
   "cell_type": "code",
   "execution_count": 7,
   "metadata": {
    "collapsed": true
   },
   "outputs": [],
   "source": [
    "rbc_corpus = pd.DataFrame([i['text'] for i in RBC['items']])\n",
    "rbc_corpus.columns = ['text']"
   ]
  },
  {
   "cell_type": "code",
   "execution_count": 8,
   "metadata": {},
   "outputs": [
    {
     "data": {
      "text/html": [
       "<div>\n",
       "<table border=\"1\" class=\"dataframe\">\n",
       "  <thead>\n",
       "    <tr style=\"text-align: right;\">\n",
       "      <th></th>\n",
       "      <th>text</th>\n",
       "    </tr>\n",
       "  </thead>\n",
       "  <tbody>\n",
       "    <tr>\n",
       "      <th>0</th>\n",
       "      <td>Организаторы ЧМ по футболу за 100 дней до его ...</td>\n",
       "    </tr>\n",
       "    <tr>\n",
       "      <th>1</th>\n",
       "      <td>«Мужчина выглядел абсолютно не в себе. А по вр...</td>\n",
       "    </tr>\n",
       "    <tr>\n",
       "      <th>2</th>\n",
       "      <td>В Киеве автомобиль сопровождения из кортежа пр...</td>\n",
       "    </tr>\n",
       "    <tr>\n",
       "      <th>3</th>\n",
       "      <td>«Он находится в сознании и дышит, но рана на г...</td>\n",
       "    </tr>\n",
       "    <tr>\n",
       "      <th>4</th>\n",
       "      <td>Власти Бельгии начали раздачу пастилок с йодом...</td>\n",
       "    </tr>\n",
       "  </tbody>\n",
       "</table>\n",
       "</div>"
      ],
      "text/plain": [
       "                                                text\n",
       "0  Организаторы ЧМ по футболу за 100 дней до его ...\n",
       "1  «Мужчина выглядел абсолютно не в себе. А по вр...\n",
       "2  В Киеве автомобиль сопровождения из кортежа пр...\n",
       "3  «Он находится в сознании и дышит, но рана на г...\n",
       "4  Власти Бельгии начали раздачу пастилок с йодом..."
      ]
     },
     "execution_count": 8,
     "metadata": {},
     "output_type": "execute_result"
    }
   ],
   "source": [
    "rbc_corpus.head()"
   ]
  },
  {
   "cell_type": "markdown",
   "metadata": {},
   "source": [
    "Just a story"
   ]
  },
  {
   "cell_type": "code",
   "execution_count": 9,
   "metadata": {
    "collapsed": true
   },
   "outputs": [],
   "source": [
    "id_js = vk_api.utils.resolveScreenName(v = 5.73, screen_name='just_str')"
   ]
  },
  {
   "cell_type": "code",
   "execution_count": 10,
   "metadata": {},
   "outputs": [
    {
     "data": {
      "text/plain": [
       "{'object_id': 106084026, 'type': 'group'}"
      ]
     },
     "execution_count": 10,
     "metadata": {},
     "output_type": "execute_result"
    }
   ],
   "source": [
    "id_js"
   ]
  },
  {
   "cell_type": "code",
   "execution_count": 11,
   "metadata": {
    "collapsed": true
   },
   "outputs": [],
   "source": [
    "just_str = vk_api.wall.get(v = 5.73,\n",
    "                           owner_id = -106084026,\n",
    "                           domain = 'https://vk.com/just_str',\n",
    "                           count = 100)"
   ]
  },
  {
   "cell_type": "code",
   "execution_count": 12,
   "metadata": {
    "collapsed": true
   },
   "outputs": [],
   "source": [
    "js_corpus = pd.DataFrame([i['text'] for i in just_str['items']])\n",
    "js_corpus.columns = ['text']"
   ]
  },
  {
   "cell_type": "code",
   "execution_count": 13,
   "metadata": {},
   "outputs": [
    {
     "data": {
      "text/html": [
       "<div>\n",
       "<table border=\"1\" class=\"dataframe\">\n",
       "  <thead>\n",
       "    <tr style=\"text-align: right;\">\n",
       "      <th></th>\n",
       "      <th>text</th>\n",
       "    </tr>\n",
       "  </thead>\n",
       "  <tbody>\n",
       "    <tr>\n",
       "      <th>0</th>\n",
       "      <td>Это было далекое лето, мне было 7 и я беспечно...</td>\n",
       "    </tr>\n",
       "    <tr>\n",
       "      <th>1</th>\n",
       "      <td>Подарок для жены\\n\\nНе помню на какой именно п...</td>\n",
       "    </tr>\n",
       "    <tr>\n",
       "      <th>2</th>\n",
       "      <td>Про неловкие ситуации\\n\\nКогда я была маленько...</td>\n",
       "    </tr>\n",
       "    <tr>\n",
       "      <th>3</th>\n",
       "      <td>Друг...\\n\\nШел сегодня на работу. Мимо проезжа...</td>\n",
       "    </tr>\n",
       "    <tr>\n",
       "      <th>4</th>\n",
       "      <td>Любовь до смерти\\n\\nМои бабушка и дедушка роди...</td>\n",
       "    </tr>\n",
       "  </tbody>\n",
       "</table>\n",
       "</div>"
      ],
      "text/plain": [
       "                                                text\n",
       "0  Это было далекое лето, мне было 7 и я беспечно...\n",
       "1  Подарок для жены\\n\\nНе помню на какой именно п...\n",
       "2  Про неловкие ситуации\\n\\nКогда я была маленько...\n",
       "3  Друг...\\n\\nШел сегодня на работу. Мимо проезжа...\n",
       "4  Любовь до смерти\\n\\nМои бабушка и дедушка роди..."
      ]
     },
     "execution_count": 13,
     "metadata": {},
     "output_type": "execute_result"
    }
   ],
   "source": [
    "js_corpus.head()"
   ]
  },
  {
   "cell_type": "markdown",
   "metadata": {},
   "source": [
    "**Задача 2. Предобработка ** (15 баллов)\n",
    "\n",
    "Предобработайте корпуса текстов: \n",
    "* Очистите тексты от мусора, используя [регулярные выражения](https://docs.python.org/2/library/re.html)\n",
    "* [Лемматизируйте текст](https://github.com/arinaaageeva/Lemmatization)\n",
    "* Удалите стоп-слова\n",
    "\n",
    "Список стоп-слов можно получить с помощью модуля [stop-words](https://pypi.python.org/pypi/stop-words)"
   ]
  },
  {
   "cell_type": "code",
   "execution_count": 52,
   "metadata": {},
   "outputs": [],
   "source": [
    "import re\n",
    "from nltk.tokenize import TreebankWordTokenizer\n",
    "import pymorphy2"
   ]
  },
  {
   "cell_type": "code",
   "execution_count": 94,
   "metadata": {
    "collapsed": true
   },
   "outputs": [],
   "source": [
    "from stop_words import get_stop_words\n",
    "\n",
    "STW = get_stop_words('russian')\n",
    "new = ['это', 'который', 'один', 'что', 'мой', 'свой']\n",
    "SW = STW + new"
   ]
  },
  {
   "cell_type": "code",
   "execution_count": 37,
   "metadata": {},
   "outputs": [],
   "source": [
    "lem = pymorphy2.MorphAnalyzer()"
   ]
  },
  {
   "cell_type": "code",
   "execution_count": 74,
   "metadata": {},
   "outputs": [],
   "source": [
    "def preprocess(list_of_texts): #чистим и лемматизируем\n",
    "    \n",
    "    filtered_texts = []\n",
    "    \n",
    "    for text in list_of_texts:\n",
    "        tokenized_text = TreebankWordTokenizer().tokenize(text.lower())\n",
    "    \n",
    "        wordsFiltered = []\n",
    " \n",
    "        for w in tokenized_text:\n",
    "            for wf in re.findall(r'(?u)([А-я]+)', w):\n",
    "                for wfreal in re.findall(r'(\\D+)', wf):\n",
    "                    a = lem.parse(wfreal)[0].normal_form\n",
    "                    wordsFiltered.append(''.join(a))\n",
    "    \n",
    "        filtered_texts.append(wordsFiltered)\n",
    "    \n",
    "    return filtered_texts\n"
   ]
  },
  {
   "cell_type": "code",
   "execution_count": 54,
   "metadata": {
    "collapsed": true
   },
   "outputs": [],
   "source": [
    "def stopWds(list_of_texts, list_of_SW): #удаляем стоп-слова\n",
    "    preprocessed_texts = []\n",
    "    text = []\n",
    "    \n",
    "    for txt in list_of_texts:\n",
    "        for w in txt:\n",
    "            if w not in list_of_SW:\n",
    "                text.append(w)\n",
    "            \n",
    "        preprocessed_texts.append(' '.join(text))\n",
    "        text = []\n",
    "                \n",
    "    return preprocessed_texts"
   ]
  },
  {
   "cell_type": "code",
   "execution_count": 116,
   "metadata": {
    "collapsed": true
   },
   "outputs": [],
   "source": [
    "def onestr(list_of_strings): # преобразуем список строк в одну строку\n",
    "    strings = []\n",
    "    for s in list_of_strings:\n",
    "        strings.append(''.join(s))\n",
    "        \n",
    "    return strings"
   ]
  },
  {
   "cell_type": "code",
   "execution_count": 46,
   "metadata": {
    "collapsed": true
   },
   "outputs": [],
   "source": [
    "def to_upd_df(list_of_texts): # преобразуем список текстов в датафрейм\n",
    "    \n",
    "    new_texts_df = pd.DataFrame({'col': list_of_texts})\n",
    "    new_texts_df.columns = ['text']\n",
    "\n",
    "    return new_texts_df"
   ]
  },
  {
   "cell_type": "markdown",
   "metadata": {},
   "source": [
    "Предобработка Just a story"
   ]
  },
  {
   "cell_type": "code",
   "execution_count": 75,
   "metadata": {},
   "outputs": [],
   "source": [
    "clear_js = preprocess(js_corpus['text'])"
   ]
  },
  {
   "cell_type": "code",
   "execution_count": 76,
   "metadata": {
    "scrolled": true
   },
   "outputs": [
    {
     "name": "stdout",
     "output_type": "stream",
     "text": [
      "['это', 'быть', 'далёкий', 'лето', 'я', 'быть', 'и', 'я', 'беспечно', 'жить', 'у', 'бабушка', 'в', 'деревня', 'ожидать', 'поступление', 'в', 'школа', 'участок', 'у', 'мы', 'большой', 'есть', 'где', 'развеяться', 'и', 'побегать', 'из', 'живность', 'быть', 'кура', 'собака', 'да', 'кошка', 'муська', 'заядлый', 'охотница', 'и', 'вот', 'в', 'один', 'чудесный', 'июльский', 'день', 'я', 'увидеть', 'как', 'муська', 'тащить', 'в', 'зуб', 'что', 'то', 'большой', 'обычно', 'это', 'быть', 'мышка', 'или', 'кротёнок', 'но', 'тут', 'быть', 'что', 'то', 'явно', 'больший', 'размер', 'и', 'я', 'заинтересоваться', 'догнать', 'кошка', 'оказаться', 'не', 'трудно', 'трудно', 'оказаться', 'вытащить', 'добыча', 'мой', 'взор', 'предстать', 'мокрый', 'сорочонок', 'с', 'явно', 'повредить', 'лапа', 'малыш', 'ещё', 'дышать', 'но', 'быть', 'такой', 'слабый', 'что', 'даже', 'не', 'трепыхаться', 'бабушка', 'осмотреть', 'птенец', 'сказать', 'что', 'он', 'не', 'жилец', 'и', 'хотеть', 'отдать', 'он', 'обратно', 'кошка', 'но', 'я', 'поднять', 'такой', 'рёв', 'что', 'она', 'не', 'остаться', 'ничто', 'кроме', 'как', 'оставить', 'сорочонок', 'у', 'мы', 'при', 'более', 'подробный', 'осмотр', 'оказаться', 'что', 'кроме', 'лапка', 'у', 'он', 'ничто', 'не', 'повредить', 'хотя', 'птенец', 'быть', 'слабый', 'лапа', 'промыть', 'забинтовать', 'так', 'чтоб', 'заживать', 'сорочонок', 'посадить', 'в', 'большой', 'коробка', 'и', 'соорудить', 'из', 'сетка', 'и', 'ткань', 'что', 'то', 'вроде', 'вольер', 'чтобы', 'кошка', 'не', 'смочь', 'снова', 'покуситься', 'на', 'он', 'жизнь', 'птенчик', 'я', 'назвать', 'кивино', 'потому', 'что', 'он', 'иногда', 'кричать', 'киви', 'киви', 'один', 'день', 'он', 'только', 'есть', 'спасть', 'и', 'терпеть', 'перевязка', 'а', 'потом', 'когда', 'рана', 'подсохнуть', 'и', 'стать', 'заживать', 'кивина', 'начать', 'ходить', 'по', 'вольер', 'и', 'даже', 'пробовать', 'чиститься', 'через', 'месяц', 'лапа', 'полностью', 'зажить', 'и', 'кивина', 'начать', 'активно', 'гулять', 'он', 'привязаться', 'к', 'я', 'и', 'бегать', 'за', 'я', 'хвостик', 'очень', 'любить', 'кошачий', 'корма', 'и', 'нагло', 'воровать', 'из', 'муськина', 'миска', 'а', 'потом', 'совсем', 'осмелеть', 'и', 'стать', 'тырить', 'весь', 'что', 'плохо', 'лежать', 'особенно', 'он', 'нравиться', 'устраивать', 'тайник', 'в', 'тапка', 'опасный', 'быть', 'сунуть', 'нога', 'в', 'тапка', 'не', 'пошарить', 'там', 'рука', 'ибо', 'там', 'мочь', 'лежать', 'кусок', 'тухлый', 'мясо', 'мелкий', 'игрушка', 'или', 'ещё', 'какой', 'нибыть', 'неведомый', 'хрень', 'вскоре', 'я', 'решить', 'научить', 'кивина', 'летать', 'я', 'брать', 'он', 'под', 'крыло', 'и', 'на', 'полметра', 'подкидывать', 'от', 'земля', 'чтобы', 'он', 'начинать', 'махать', 'крылышко', 'и', 'мягко', 'приземляться', 'кивина', 'очень', 'быстро', 'понять', 'что', 'от', 'он', 'надо', 'и', 'сам', 'взлетать', 'на', 'крыша', 'или', 'на', 'дерево', 'но', 'далеко', 'от', 'дом', 'никогда', 'не', 'улетать', 'в', 'конец', 'август', 'кивина', 'совсем', 'вырасти', 'он', 'стать', 'такой', 'больший', 'и', 'красивый', 'и', 'улететь', 'насовсем', 'положить', 'на', 'прощание', 'блестящий', 'фантик', 'я', 'в', 'сандалить']\n"
     ]
    }
   ],
   "source": [
    "print(clear_js[0])"
   ]
  },
  {
   "cell_type": "code",
   "execution_count": 98,
   "metadata": {},
   "outputs": [
    {
     "data": {
      "text/plain": [
       "'далёкий лето беспечно жить бабушка деревня ожидать поступление школа участок большой развеяться побегать живность кура собака кошка муська заядлый охотница чудесный июльский увидеть муська тащить зуб большой мышка кротёнок явно больший размер заинтересоваться догнать кошка оказаться трудно трудно оказаться вытащить добыча взор предстать мокрый сорочонок явно повредить лапа малыш дышать слабый трепыхаться бабушка осмотреть птенец жилец отдать обратно кошка поднять рёв остаться ничто оставить сорочонок подробный осмотр оказаться лапка ничто повредить птенец слабый лапа промыть забинтовать заживать сорочонок посадить большой коробка соорудить сетка ткань вроде вольер кошка смочь покуситься птенчик назвать кивино кричать киви киви спасть терпеть перевязка рана подсохнуть стать заживать кивина начать ходить вольер пробовать чиститься месяц лапа полностью зажить кивина начать активно гулять привязаться бегать хвостик любить кошачий корма нагло воровать муськина миска осмелеть стать тырить плохо лежать нравиться устраивать тайник тапка опасный сунуть нога тапка пошарить рука ибо лежать кусок тухлый мясо мелкий игрушка нибыть неведомый хрень вскоре решить научить кивина летать брать крыло полметра подкидывать земля начинать махать крылышко мягко приземляться кивина быстро понять взлетать крыша дерево дом улетать конец август кивина вырасти стать больший красивый улететь насовсем положить прощание блестящий фантик сандалить'"
      ]
     },
     "execution_count": 98,
     "metadata": {},
     "output_type": "execute_result"
    }
   ],
   "source": [
    "js_noSW = stopWds(clear_js, SW)\n",
    "js_noSW[0]"
   ]
  },
  {
   "cell_type": "code",
   "execution_count": 99,
   "metadata": {},
   "outputs": [
    {
     "data": {
      "text/html": [
       "<div>\n",
       "<table border=\"1\" class=\"dataframe\">\n",
       "  <thead>\n",
       "    <tr style=\"text-align: right;\">\n",
       "      <th></th>\n",
       "      <th>text</th>\n",
       "    </tr>\n",
       "  </thead>\n",
       "  <tbody>\n",
       "    <tr>\n",
       "      <th>0</th>\n",
       "      <td>далёкий лето беспечно жить бабушка деревня ожи...</td>\n",
       "    </tr>\n",
       "    <tr>\n",
       "      <th>1</th>\n",
       "      <td>подарок жена помнить праздник папа решить сдел...</td>\n",
       "    </tr>\n",
       "    <tr>\n",
       "      <th>2</th>\n",
       "      <td>неловкий ситуация маленькая читать энциклопеди...</td>\n",
       "    </tr>\n",
       "    <tr>\n",
       "      <th>3</th>\n",
       "      <td>друг идти работа проезжать автобус заметить др...</td>\n",
       "    </tr>\n",
       "    <tr>\n",
       "      <th>4</th>\n",
       "      <td>любовь смерть бабушка дедушка родиться бабушка...</td>\n",
       "    </tr>\n",
       "  </tbody>\n",
       "</table>\n",
       "</div>"
      ],
      "text/plain": [
       "                                                text\n",
       "0  далёкий лето беспечно жить бабушка деревня ожи...\n",
       "1  подарок жена помнить праздник папа решить сдел...\n",
       "2  неловкий ситуация маленькая читать энциклопеди...\n",
       "3  друг идти работа проезжать автобус заметить др...\n",
       "4  любовь смерть бабушка дедушка родиться бабушка..."
      ]
     },
     "execution_count": 99,
     "metadata": {},
     "output_type": "execute_result"
    }
   ],
   "source": [
    "new_js = to_upd_df(js_noSW)\n",
    "new_js.head()"
   ]
  },
  {
   "cell_type": "markdown",
   "metadata": {},
   "source": [
    "Предобработка РБК"
   ]
  },
  {
   "cell_type": "code",
   "execution_count": 100,
   "metadata": {
    "collapsed": true
   },
   "outputs": [],
   "source": [
    "clear_rbc = preprocess(rbc_corpus['text'])"
   ]
  },
  {
   "cell_type": "code",
   "execution_count": 101,
   "metadata": {
    "scrolled": true
   },
   "outputs": [
    {
     "name": "stdout",
     "output_type": "stream",
     "text": [
      "[['организатор', 'чм', 'по', 'футбол', 'за', 'день', 'до', 'он', 'начало', 'опубликовать', 'видео', 'с', 'флешмоб', 'в', 'который', 'принять', 'участие', 'известный', 'футболист', 'в', 'конец', 'ролик', 'появляться', 'путин', 'играть', 'в', 'футбол', 'с', 'главый', 'инфантино'], ['мужчина', 'выглядеть', 'абсолютно', 'не', 'в', 'себя', 'а', 'по', 'время', 'то', 'быть', 'ещё', 'день', 'около', 'я', 'подумать', 'странноватый', 'время', 'чтобы', 'быть', 'уже', 'настолько', 'пьяный', 'жительница', 'солсбери', 'рассказать', 'о', 'состояние', 'экс', 'разведчик', 'скрипалить', 'который', 'быть', 'отравить', 'март', 'неизвестный', 'вещество'], ['в', 'киев', 'автомобиль', 'сопровождение', 'из', 'кортеж', 'президент', 'украина', 'петра', 'порошенко', 'сбить', 'пожилое', 'мужчина', 'он', 'перебегать', 'дорога', 'проигнорировать', 'запрет', 'регулировщик'], ['он', 'находиться', 'в', 'сознание', 'и', 'дышать', 'но', 'рана', 'на', 'голов', 'кровоточить', 'сотрудник', 'врезаться', 'в', 'стена', 'новый', 'штаб', 'квартира', 'но', 'дирекция', 'запрещать', 'обклеивать', 'они', 'предупреждать', 'стикер'], ['власть', 'бельгия', 'начать', 'раздача', 'пастилка', 'с', 'йод', 'гражданин', 'жить', 'в', 'радиус', 'километр', 'от', 'два', 'работать', 'в', 'страна', 'аэс', 'с', 'учёт', 'территория', 'государство', 'пастилка', 'получить', 'весь', 'житель', 'бельгия']]\n"
     ]
    }
   ],
   "source": [
    "print(clear_rbc[:5])"
   ]
  },
  {
   "cell_type": "code",
   "execution_count": 102,
   "metadata": {
    "collapsed": true
   },
   "outputs": [],
   "source": [
    "rbc_noSW = stopWds(clear_rbc, SW)"
   ]
  },
  {
   "cell_type": "code",
   "execution_count": 103,
   "metadata": {},
   "outputs": [
    {
     "name": "stdout",
     "output_type": "stream",
     "text": [
      "['организатор чм футбол начало опубликовать видео флешмоб принять участие известный футболист конец ролик появляться путин играть футбол главый инфантино', 'мужчина выглядеть абсолютно подумать странноватый настолько пьяный жительница солсбери рассказать состояние экс разведчик скрипалить отравить март неизвестный вещество', 'киев автомобиль сопровождение кортеж президент украина петра порошенко сбить пожилое мужчина перебегать дорога проигнорировать запрет регулировщик', 'находиться сознание дышать рана голов кровоточить сотрудник врезаться стена новый штаб квартира дирекция запрещать обклеивать предупреждать стикер', 'власть бельгия начать раздача пастилка йод гражданин жить радиус километр работать страна аэс учёт территория государство пастилка получить житель бельгия']\n"
     ]
    }
   ],
   "source": [
    "print(rbc_noSW[:5])"
   ]
  },
  {
   "cell_type": "code",
   "execution_count": 104,
   "metadata": {},
   "outputs": [
    {
     "data": {
      "text/html": [
       "<div>\n",
       "<table border=\"1\" class=\"dataframe\">\n",
       "  <thead>\n",
       "    <tr style=\"text-align: right;\">\n",
       "      <th></th>\n",
       "      <th>text</th>\n",
       "    </tr>\n",
       "  </thead>\n",
       "  <tbody>\n",
       "    <tr>\n",
       "      <th>0</th>\n",
       "      <td>организатор чм футбол начало опубликовать виде...</td>\n",
       "    </tr>\n",
       "    <tr>\n",
       "      <th>1</th>\n",
       "      <td>мужчина выглядеть абсолютно подумать страннова...</td>\n",
       "    </tr>\n",
       "    <tr>\n",
       "      <th>2</th>\n",
       "      <td>киев автомобиль сопровождение кортеж президент...</td>\n",
       "    </tr>\n",
       "    <tr>\n",
       "      <th>3</th>\n",
       "      <td>находиться сознание дышать рана голов кровоточ...</td>\n",
       "    </tr>\n",
       "    <tr>\n",
       "      <th>4</th>\n",
       "      <td>власть бельгия начать раздача пастилка йод гра...</td>\n",
       "    </tr>\n",
       "  </tbody>\n",
       "</table>\n",
       "</div>"
      ],
      "text/plain": [
       "                                                text\n",
       "0  организатор чм футбол начало опубликовать виде...\n",
       "1  мужчина выглядеть абсолютно подумать страннова...\n",
       "2  киев автомобиль сопровождение кортеж президент...\n",
       "3  находиться сознание дышать рана голов кровоточ...\n",
       "4  власть бельгия начать раздача пастилка йод гра..."
      ]
     },
     "execution_count": 104,
     "metadata": {},
     "output_type": "execute_result"
    }
   ],
   "source": [
    "new_rbc = to_upd_df(rbc_noSW)\n",
    "new_rbc.head()"
   ]
  },
  {
   "cell_type": "markdown",
   "metadata": {},
   "source": [
    "** Задача 3. Выделение признаков** (5 баллов)\n",
    "\n",
    "Воспользуйтесь [TfidfVectorizer](http://scikit-learn.org/stable/modules/generated/sklearn.feature_extraction.text.TfidfVectorizer.html) для векторизации текстов. "
   ]
  },
  {
   "cell_type": "code",
   "execution_count": 191,
   "metadata": {
    "collapsed": true
   },
   "outputs": [],
   "source": [
    "from sklearn.feature_extraction.text import TfidfVectorizer\n",
    "\n",
    "TFVectorizer_js = TfidfVectorizer(stop_words = SW, max_features=100) #задаем max_features = 100,\n",
    "TFVectorizer_rbc = TfidfVectorizer(stop_words = SW, max_features=100)#чтобы выделить первые сто топ-токенов"
   ]
  },
  {
   "cell_type": "code",
   "execution_count": 106,
   "metadata": {
    "collapsed": true
   },
   "outputs": [],
   "source": [
    "vect_js = TFVectorizer_js.fit_transform(new_js['text'])"
   ]
  },
  {
   "cell_type": "code",
   "execution_count": 107,
   "metadata": {
    "collapsed": true
   },
   "outputs": [],
   "source": [
    "vect_rbc = TFVectorizer_rbc.fit_transform(new_rbc['text'])"
   ]
  },
  {
   "cell_type": "code",
   "execution_count": 108,
   "metadata": {},
   "outputs": [
    {
     "name": "stdout",
     "output_type": "stream",
     "text": [
      "['бабушка', 'большой', 'брат', 'брать', 'бывать', 'взять', 'видеть', 'владимир', 'водитель', 'вообще', 'вопрос', 'вс', 'выйти', 'гараж', 'глаз', 'говорить', 'город', 'давать', 'далее', 'дать', 'девушка', 'делать', 'дело', 'деньга', 'директор', 'должный', 'дом', 'друг', 'думать', 'ехать', 'ещ', 'женщина', 'жить', 'звонок', 'знакомый', 'знать', 'игра', 'идти', 'история', 'класс', 'комната', 'конец', 'литр', 'лицо', 'любить', 'мама', 'машина', 'место', 'месяц', 'метр', 'минута', 'муж', 'мужик', 'найти', 'начать', 'начинать', 'неделя', 'ничто', 'нога', 'нормальный', 'общий', 'оказаться', 'окно', 'ответ', 'отвечать', 'папа', 'пара', 'парень', 'подходить', 'пойти', 'понимать', 'понять', 'приехать', 'прийти', 'просить', 'пытаться', 'работа', 'работать', 'рассказывать', 'ребёнок', 'решить', 'рука', 'самый', 'сделать', 'сидеть', 'слышать', 'смотреть', 'собака', 'сосед', 'спрашивать', 'сразу', 'стать', 'телефон', 'туалет', 'увидеть', 'форточка', 'хороший', 'час', 'часы', 'школа']\n"
     ]
    }
   ],
   "source": [
    "fn_js = TFVectorizer_js.get_feature_names()\n",
    "print(fn_js)"
   ]
  },
  {
   "cell_type": "code",
   "execution_count": 109,
   "metadata": {
    "scrolled": true
   },
   "outputs": [
    {
     "name": "stdout",
     "output_type": "stream",
     "text": [
      "['александр', 'алексей', 'американский', 'анджелес', 'бывший', 'бюджет', 'вашингтон', 'владимир', 'власть', 'влияние', 'вмешательство', 'военный', 'восточный', 'вручение', 'выбор', 'газпром', 'глава', 'грудинин', 'группа', 'гута', 'дать', 'дело', 'депутат', 'должный', 'доход', 'заявить', 'известный', 'кампания', 'канал', 'кандидат', 'киев', 'компания', 'крупный', 'лос', 'март', 'ми', 'миллиард', 'миллион', 'мировой', 'мосгордума', 'москва', 'мужчина', 'назвать', 'напасть', 'находиться', 'начало', 'нея', 'новый', 'обвинять', 'ограничение', 'оон', 'оскар', 'отравление', 'переговоры', 'показать', 'получить', 'последний', 'президент', 'премия', 'пресс', 'проблема', 'путин', 'работа', 'работать', 'разведчик', 'разработка', 'ранее', 'рассказать', 'рбк', 'речь', 'решение', 'решить', 'российский', 'россия', 'рубль', 'самопровозгласить', 'сеть', 'система', 'собчак', 'сообщить', 'стать', 'страна', 'сумма', 'счёт', 'сша', 'территория', 'тысяча', 'увеличиться', 'украина', 'украинский', 'умный', 'уточнить', 'федеральный', 'фильм', 'ход', 'церемония', 'цик', 'швейцарский', 'штаб', 'эксперт']\n"
     ]
    }
   ],
   "source": [
    "fn_rbc = TFVectorizer_rbc.get_feature_names()\n",
    "print(fn_rbc)"
   ]
  },
  {
   "cell_type": "markdown",
   "metadata": {},
   "source": [
    "**Задача 4. Визуализация** (5 баллов)\n",
    "\n",
    "Визуализируйте токены для каждого сообщества с помощью [WORDCLOUD](https://python-graph-gallery.com/wordcloud/)"
   ]
  },
  {
   "cell_type": "code",
   "execution_count": 110,
   "metadata": {
    "collapsed": true
   },
   "outputs": [],
   "source": [
    "from wordcloud import WordCloud\n",
    "import matplotlib.pyplot as plt"
   ]
  },
  {
   "cell_type": "code",
   "execution_count": 118,
   "metadata": {},
   "outputs": [],
   "source": [
    "js_words = []\n",
    "\n",
    "for text in new_js['text']:\n",
    "    for word in text.split(' '):\n",
    "        js_words.append(word)\n",
    "\n",
    "txt_js = ' '.join(js_words)"
   ]
  },
  {
   "cell_type": "code",
   "execution_count": 119,
   "metadata": {},
   "outputs": [],
   "source": [
    "rbc_words = []\n",
    "\n",
    "for text in new_rbc['text']:\n",
    "    for word in text.split(' '):\n",
    "        rbc_words.append(word)\n",
    "\n",
    "txt_rbc = ' '.join(rbc_words)"
   ]
  },
  {
   "cell_type": "code",
   "execution_count": 121,
   "metadata": {},
   "outputs": [
    {
     "data": {
      "image/png": "[encoded data removed]",
      "text/plain": [
       "<matplotlib.figure.Figure at 0x7f847061d9b0>"
      ]
     },
     "metadata": {},
     "output_type": "display_data"
    }
   ],
   "source": [
    "wordcloud_rbc = WordCloud(width=480, height=480, margin=0, max_words=100).generate(txt_rbc)\n",
    " \n",
    "# Display the generated image:\n",
    "plt.imshow(wordcloud_rbc, interpolation='bilinear')\n",
    "plt.axis(\"off\")\n",
    "plt.margins(x=0, y=0)\n",
    "plt.show()"
   ]
  },
  {
   "cell_type": "code",
   "execution_count": 120,
   "metadata": {},
   "outputs": [
    {
     "data": {
      "image/png": "[encoded data removed]",
      "text/plain": [
       "<matplotlib.figure.Figure at 0x7f8470423cf8>"
      ]
     },
     "metadata": {},
     "output_type": "display_data"
    }
   ],
   "source": [
    "wordcloud_js = WordCloud(width=600, height=600, margin=0, max_words=100).generate(txt_js)\n",
    " \n",
    "# Display the generated image:\n",
    "plt.imshow(wordcloud_js, interpolation='bilinear')\n",
    "plt.axis(\"off\")\n",
    "plt.margins(x=0, y=0)\n",
    "plt.show()"
   ]
  },
  {
   "cell_type": "markdown",
   "metadata": {},
   "source": [
    "**Задача 5. Поиск коллокаций** (15 баллов)\n",
    "\n",
    "Для каждого сообщества найдите статистические значиммые коллокации с помощью PMI"
   ]
  },
  {
   "cell_type": "code",
   "execution_count": 130,
   "metadata": {
    "collapsed": true
   },
   "outputs": [],
   "source": [
    "from math import log"
   ]
  },
  {
   "cell_type": "code",
   "execution_count": 169,
   "metadata": {
    "collapsed": true
   },
   "outputs": [],
   "source": [
    "def words_to_dict(list_of_texts): #получаем словарь частотности по униграммам + Bag of words\n",
    "\n",
    "    bag_of_words = []\n",
    "\n",
    "    for txt in list_of_texts:\n",
    "        for wrd in txt.split():\n",
    "            bag_of_words.append(wrd)\n",
    "        \n",
    "    unique_words = list(set(bag_of_words))\n",
    "\n",
    "    numbers = []\n",
    "    for item in unique_words:\n",
    "        word_num = bag_of_words.count(item)\n",
    "        numbers.append(word_num)\n",
    "    \n",
    "    dictionary = dict(zip(unique_words, numbers))\n",
    "    \n",
    "    return dictionary, bag_of_words"
   ]
  },
  {
   "cell_type": "code",
   "execution_count": 170,
   "metadata": {},
   "outputs": [],
   "source": [
    "def bigrams_to_dict(list_of_texts): # получаем словарь частотности по биграммам + список биграмм\n",
    "    \n",
    "    bag_of_bigrams = []\n",
    "    \n",
    "    for text in list_of_texts:\n",
    "        txt = list(text.split(' '))\n",
    "        for word in range(1, len(txt) - 1):\n",
    "            bag_of_bigrams.append(' '.join([txt[word - 1], txt[word]]))\n",
    "    \n",
    "    unique_bigrams = list(set(bag_of_bigrams))\n",
    "    \n",
    "    count = []\n",
    "    \n",
    "    for item in unique_bigrams:\n",
    "        bi_count = bag_of_bigrams.count(item)\n",
    "        count.append(bi_count)\n",
    "    \n",
    "    dictionary = dict(zip(unique_bigrams, count))\n",
    "    \n",
    "    return dictionary, bag_of_bigrams"
   ]
  },
  {
   "cell_type": "code",
   "execution_count": 183,
   "metadata": {
    "collapsed": true
   },
   "outputs": [],
   "source": [
    "def freq_sort(dictionary): #из словаря частотности получаем список ключей, отсортированных в порядке убывания частотности\n",
    "    dict_words = list(dictionary.keys())\n",
    "    dict_freq = list(dictionary.values())\n",
    "\n",
    "    almost_done = list(zip(dict_words, dict_freq))\n",
    "    almost_done.sort(key = lambda almost_done: almost_done[1], reverse=True)\n",
    "    \n",
    "    return almost_done"
   ]
  },
  {
   "cell_type": "code",
   "execution_count": 172,
   "metadata": {},
   "outputs": [
    {
     "name": "stdout",
     "output_type": "stream",
     "text": [
      "1084 1629\n"
     ]
    }
   ],
   "source": [
    "rbc_words, rbcBOG = words_to_dict(new_rbc['text'])\n",
    "print(len(rbc_words), len(rbcBOG))"
   ]
  },
  {
   "cell_type": "code",
   "execution_count": 173,
   "metadata": {},
   "outputs": [
    {
     "name": "stdout",
     "output_type": "stream",
     "text": [
      "3725 8001\n"
     ]
    }
   ],
   "source": [
    "js_words, jsBOG = words_to_dict(new_js['text'])\n",
    "print(len(js_words), len(jsBOG))"
   ]
  },
  {
   "cell_type": "code",
   "execution_count": 174,
   "metadata": {},
   "outputs": [
    {
     "name": "stdout",
     "output_type": "stream",
     "text": [
      "1375 1429\n"
     ]
    }
   ],
   "source": [
    "rbc_bi, rbc_biBOG = bigrams_to_dict(new_rbc['text'])\n",
    "print(len(rbc_bi), len(rbc_biBOG))"
   ]
  },
  {
   "cell_type": "code",
   "execution_count": 175,
   "metadata": {},
   "outputs": [
    {
     "name": "stdout",
     "output_type": "stream",
     "text": [
      "7659 7803\n"
     ]
    }
   ],
   "source": [
    "js_bi, js_biBOG = bigrams_to_dict(new_js['text'])\n",
    "print(len(js_bi), len(js_biBOG))"
   ]
  },
  {
   "cell_type": "code",
   "execution_count": 178,
   "metadata": {
    "collapsed": true
   },
   "outputs": [],
   "source": [
    "#РБК\n",
    "pmi_rbc = {}\n",
    "\n",
    "for bi in rbc_biBOG:\n",
    "    x1, y1  = bi.split()\n",
    "    p_xy1 = rbc_bi[' '.join([x1, y1])]/len(rbc_biBOG)\n",
    "    p_x1, p_y1 = rbc_words[x1]/len(rbcBOG), rbc_words[y1]/len(rbcBOG)\n",
    "    pmi1 = log(p_xy1/(p_x1 * p_y1))\n",
    "    pmi_rbc[bi] = pmi1\n"
   ]
  },
  {
   "cell_type": "code",
   "execution_count": 181,
   "metadata": {
    "collapsed": true
   },
   "outputs": [],
   "source": [
    "#значимые коллокации РБК\n",
    "rbc_collocations = freq_sort(pmi_rbc)"
   ]
  },
  {
   "cell_type": "code",
   "execution_count": 190,
   "metadata": {},
   "outputs": [
    {
     "data": {
      "text/plain": [
       "[('футболист конец', 7.526713039274223),\n",
       " ('конец ролик', 7.526713039274223),\n",
       " ('ролик появляться', 7.526713039274223),\n",
       " ('выглядеть абсолютно', 7.526713039274223),\n",
       " ('абсолютно подумать', 7.526713039274223),\n",
       " ('подумать странноватый', 7.526713039274223),\n",
       " ('странноватый настолько', 7.526713039274223),\n",
       " ('настолько пьяный', 7.526713039274223),\n",
       " ('пьяный жительница', 7.526713039274223),\n",
       " ('жительница солсбери', 7.526713039274223),\n",
       " ('автомобиль сопровождение', 7.526713039274223),\n",
       " ('петра порошенко', 7.526713039274223),\n",
       " ('порошенко сбить', 7.526713039274223),\n",
       " ('сбить пожилое', 7.526713039274223),\n",
       " ('перебегать дорога', 7.526713039274223),\n",
       " ('дорога проигнорировать', 7.526713039274223),\n",
       " ('сознание дышать', 7.526713039274223),\n",
       " ('дышать рана', 7.526713039274223),\n",
       " ('рана голов', 7.526713039274223),\n",
       " ('голов кровоточить', 7.526713039274223),\n",
       " ('врезаться стена', 7.526713039274223),\n",
       " ('квартира дирекция', 7.526713039274223),\n",
       " ('дирекция запрещать', 7.526713039274223),\n",
       " ('запрещать обклеивать', 7.526713039274223),\n",
       " ('обклеивать предупреждать', 7.526713039274223),\n",
       " ('начать раздача', 7.526713039274223),\n",
       " ('жить радиус', 7.526713039274223),\n",
       " ('радиус километр', 7.526713039274223),\n",
       " ('пилот ан', 7.526713039274223),\n",
       " ('ан саратовский', 7.526713039274223),\n",
       " ('саратовский авиалиния', 7.526713039274223),\n",
       " ('авиалиния секунда', 7.526713039274223),\n",
       " ('секунда катастрофа', 7.526713039274223),\n",
       " ('катастрофа борт', 7.526713039274223),\n",
       " ('борт самолёт', 7.526713039274223),\n",
       " ('объяснить годовщина', 7.526713039274223),\n",
       " ('генерал скр', 7.526713039274223),\n",
       " ('скр денис', 7.526713039274223),\n",
       " ('денис никандр', 7.526713039274223),\n",
       " ('никандр признаться', 7.526713039274223),\n",
       " ('признаться следствие', 7.526713039274223),\n",
       " ('непосредственный начальник', 7.526713039274223),\n",
       " ('занимать должность', 7.526713039274223),\n",
       " ('должность руководитель', 7.526713039274223),\n",
       " ('руководитель гсу', 7.526713039274223),\n",
       " ('двукратное занижение', 7.526713039274223),\n",
       " ('доказать точка', 7.526713039274223),\n",
       " ('точка зрение', 7.526713039274223),\n",
       " ('мотоцикл футболка', 7.526713039274223),\n",
       " ('футболка джинсы', 7.526713039274223),\n",
       " ('джинсы бурбон', 7.526713039274223),\n",
       " ('бурбон обещание', 7.526713039274223),\n",
       " ('дерипаск пролить', 7.526713039274223),\n",
       " ('пролить свет', 7.526713039274223),\n",
       " ('любой агитация', 7.526713039274223),\n",
       " ('медведев поручить', 7.526713039274223),\n",
       " ('уплата страхов', 7.526713039274223),\n",
       " ('страхов взнос', 7.526713039274223),\n",
       " ('взнос фомс', 7.526713039274223),\n",
       " ('фомс неработающий', 7.526713039274223),\n",
       " ('перенести плата', 7.526713039274223),\n",
       " ('остаться маленький', 7.526713039274223),\n",
       " ('маленький неделя', 7.526713039274223),\n",
       " ('сбор средство', 7.526713039274223),\n",
       " ('случай неизрасходованный', 7.526713039274223),\n",
       " ('фнс обнаружить', 7.526713039274223),\n",
       " ('подать заявление', 7.526713039274223),\n",
       " ('заявление снятие', 7.526713039274223),\n",
       " ('доказательный база', 7.526713039274223),\n",
       " ('база нарушение', 7.526713039274223),\n",
       " ('кремль высокий', 7.526713039274223),\n",
       " ('готовить совфеда', 7.526713039274223),\n",
       " ('совфеда ряд', 7.526713039274223),\n",
       " ('адекватный профилактика', 7.526713039274223),\n",
       " ('полиция опасение', 7.526713039274223),\n",
       " ('курд уйти', 7.526713039274223),\n",
       " ('уйти воевать', 7.526713039274223),\n",
       " ('воевать иго', 7.526713039274223),\n",
       " ('некого пентагон', 7.526713039274223),\n",
       " ('пентагон признать', 7.526713039274223),\n",
       " ('признать пауза', 7.526713039274223),\n",
       " ('пауза бой', 7.526713039274223),\n",
       " ('машина говорят', 7.526713039274223),\n",
       " ('ночное видение', 7.526713039274223),\n",
       " ('приобретать свежий', 7.526713039274223),\n",
       " ('свежий качественный', 7.526713039274223),\n",
       " ('южноамериканский происхождение', 7.526713039274223),\n",
       " ('происхождение правило', 7.526713039274223),\n",
       " ('правило эквадор', 7.526713039274223),\n",
       " ('мелкооптовый фирма', 7.526713039274223),\n",
       " ('фирма сообщаться', 7.526713039274223),\n",
       " ('сообщаться сайт', 7.526713039274223),\n",
       " ('сайт сталинизатор', 7.526713039274223),\n",
       " ('сталинизатор откуда', 7.526713039274223),\n",
       " ('откуда браться', 7.526713039274223),\n",
       " ('плодиться фейка', 7.526713039274223),\n",
       " ('передавать лондон', 7.526713039274223),\n",
       " ('безреволюционный курортный', 7.526713039274223),\n",
       " ('курортный вечносоветский', 7.526713039274223),\n",
       " ('вечносоветский автор', 7.526713039274223)]"
      ]
     },
     "execution_count": 190,
     "metadata": {},
     "output_type": "execute_result"
    }
   ],
   "source": [
    "rbc_collocations[:100]"
   ]
  },
  {
   "cell_type": "code",
   "execution_count": 185,
   "metadata": {},
   "outputs": [],
   "source": [
    "#Just a story\n",
    "pmi_js = {}\n",
    "\n",
    "for bi in js_biBOG:\n",
    "    x2, y2  = bi.split()\n",
    "    p_xy2 = js_bi[' '.join([x2, y2])]/len(js_biBOG)\n",
    "    p_x2, p_y2 = js_words[x2]/len(jsBOG), js_words[y2]/len(jsBOG)\n",
    "    pmi2 = log(p_xy2/(p_x2 * p_y2))\n",
    "    pmi_js[bi] = pmi2\n"
   ]
  },
  {
   "cell_type": "code",
   "execution_count": 186,
   "metadata": {
    "collapsed": true
   },
   "outputs": [],
   "source": [
    "#значимые коллокации Just a story\n",
    "js_collocations = freq_sort(pmi_js)"
   ]
  },
  {
   "cell_type": "code",
   "execution_count": 189,
   "metadata": {},
   "outputs": [
    {
     "data": {
      "text/plain": [
       "[('развеяться побегать', 9.012380071583486),\n",
       " ('заядлый охотница', 9.012380071583486),\n",
       " ('охотница чудесный', 9.012380071583486),\n",
       " ('чудесный июльский', 9.012380071583486),\n",
       " ('заинтересоваться догнать', 9.012380071583486),\n",
       " ('вытащить добыча', 9.012380071583486),\n",
       " ('добыча взор', 9.012380071583486),\n",
       " ('взор предстать', 9.012380071583486),\n",
       " ('предстать мокрый', 9.012380071583486),\n",
       " ('промыть забинтовать', 9.012380071583486),\n",
       " ('покуситься птенчик', 9.012380071583486),\n",
       " ('терпеть перевязка', 9.012380071583486),\n",
       " ('перевязка рана', 9.012380071583486),\n",
       " ('рана подсохнуть', 9.012380071583486),\n",
       " ('кошачий корма', 9.012380071583486),\n",
       " ('корма нагло', 9.012380071583486),\n",
       " ('муськина миска', 9.012380071583486),\n",
       " ('миска осмелеть', 9.012380071583486),\n",
       " ('кусок тухлый', 9.012380071583486),\n",
       " ('полметра подкидывать', 9.012380071583486),\n",
       " ('махать крылышко', 9.012380071583486),\n",
       " ('крылышко мягко', 9.012380071583486),\n",
       " ('мягко приземляться', 9.012380071583486),\n",
       " ('улететь насовсем', 9.012380071583486),\n",
       " ('прощание блестящий', 9.012380071583486),\n",
       " ('блестящий фантик', 9.012380071583486),\n",
       " ('журнальный столик', 9.012380071583486),\n",
       " ('столик вырезать', 9.012380071583486),\n",
       " ('вырезать столешница', 9.012380071583486),\n",
       " ('столешница сварить', 9.012380071583486),\n",
       " ('основание оставаться', 9.012380071583486),\n",
       " ('оставаться покрасить', 9.012380071583486),\n",
       " ('чёрный переставить', 9.012380071583486),\n",
       " ('глава посвятить', 9.012380071583486),\n",
       " ('выпрямляться поглядеть', 9.012380071583486),\n",
       " ('наблюдать манёвр', 9.012380071583486),\n",
       " ('ссора кончаться', 9.012380071583486),\n",
       " ('кончаться аргумент', 9.012380071583486),\n",
       " ('бурчать несостоявшийся', 9.012380071583486),\n",
       " ('несостоявшийся стирка', 9.012380071583486),\n",
       " ('стирка выкладывать', 9.012380071583486),\n",
       " ('отнести речка', 9.012380071583486),\n",
       " ('заводчик кролик', 9.012380071583486),\n",
       " ('откорм крольчонок', 9.012380071583486),\n",
       " ('старость похоронить', 9.012380071583486),\n",
       " ('похоронить почесть', 9.012380071583486),\n",
       " ('коммерсант доверять', 9.012380071583486),\n",
       " ('шахматист рыбалов', 9.012380071583486),\n",
       " ('рыбалов строитель', 9.012380071583486),\n",
       " ('строитель винодел', 9.012380071583486),\n",
       " ('черёмуха ягода', 9.012380071583486),\n",
       " ('пережить фактически', 9.012380071583486),\n",
       " ('подошсть шипеть', 9.012380071583486),\n",
       " ('шипеть хамить', 9.012380071583486),\n",
       " ('хамить ващий', 9.012380071583486),\n",
       " ('ващий нелицеприятный', 9.012380071583486),\n",
       " ('снизить уровень', 9.012380071583486),\n",
       " ('уровень интеллигентность', 9.012380071583486),\n",
       " ('еб ло', 9.012380071583486),\n",
       " ('ло заваль', 9.012380071583486),\n",
       " ('культурный обтекать', 9.012380071583486),\n",
       " ('игрух инстаграмм', 9.012380071583486),\n",
       " ('радоваться круто', 9.012380071583486),\n",
       " ('приятно сиська', 9.012380071583486),\n",
       " ('зубной протез', 9.012380071583486),\n",
       " ('революция голодомор', 9.012380071583486),\n",
       " ('голодомор гражданский', 9.012380071583486),\n",
       " ('гражданский война', 9.012380071583486),\n",
       " ('война мировой', 9.012380071583486),\n",
       " ('мировой оккупация', 9.012380071583486),\n",
       " ('оккупация перестройка', 9.012380071583486),\n",
       " ('гвоздь заколачивать', 9.012380071583486),\n",
       " ('заколачивать постоять', 9.012380071583486),\n",
       " ('постоять помолчать', 9.012380071583486),\n",
       " ('подбегать малое', 9.012380071583486),\n",
       " ('приплыть успокаивать', 9.012380071583486),\n",
       " ('потоп устроить', 9.012380071583486),\n",
       " ('порой скармливать', 9.012380071583486),\n",
       " ('скармливать технарь', 9.012380071583486),\n",
       " ('оцениваться определённый', 9.012380071583486),\n",
       " ('определённый шкала', 9.012380071583486),\n",
       " ('вася итоговый', 9.012380071583486),\n",
       " ('итоговый решающий', 9.012380071583486),\n",
       " ('защищать онлайн', 9.012380071583486),\n",
       " ('помимо приглашаться', 9.012380071583486),\n",
       " ('вызваться защищаться', 9.012380071583486),\n",
       " ('тихий хихиканье', 9.012380071583486),\n",
       " ('оптимистичный нота', 9.012380071583486),\n",
       " ('доставаться косой', 9.012380071583486),\n",
       " ('видение трамвай', 9.012380071583486),\n",
       " ('трамвай кондуктор', 9.012380071583486),\n",
       " ('старушка внучатый', 9.012380071583486),\n",
       " ('внучатый племянница', 9.012380071583486),\n",
       " ('растить эндокринолог', 9.012380071583486),\n",
       " ('уч бе', 9.012380071583486),\n",
       " ('бе берлин', 9.012380071583486),\n",
       " ('совершенный лентяй', 9.012380071583486),\n",
       " ('детский садик', 9.012380071583486),\n",
       " ('распознать ароматик', 9.012380071583486),\n",
       " ('задуматься приуныть', 9.012380071583486)]"
      ]
     },
     "execution_count": 189,
     "metadata": {},
     "output_type": "execute_result"
    }
   ],
   "source": [
    "js_collocations[:100]"
   ]
  },
  {
   "cell_type": "code",
   "execution_count": null,
   "metadata": {
    "collapsed": true
   },
   "outputs": [],
   "source": []
  }
 ],
 "metadata": {
  "kernelspec": {
   "display_name": "Python 3",
   "language": "python",
   "name": "python3"
  },
  "language_info": {
   "codemirror_mode": {
    "name": "ipython",
    "version": 3
   },
   "file_extension": ".py",
   "mimetype": "text/x-python",
   "name": "python",
   "nbconvert_exporter": "python",
   "pygments_lexer": "ipython3",
   "version": "3.6.2"
  }
 },
 "nbformat": 4,
 "nbformat_minor": 2
}
