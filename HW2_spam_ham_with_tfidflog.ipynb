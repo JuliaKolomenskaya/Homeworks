{
 "cells": [
  {
   "cell_type": "code",
   "execution_count": 1,
   "metadata": {
    "collapsed": true
   },
   "outputs": [],
   "source": [
    "import numpy as np\n",
    "import pandas as pd\n",
    "from nltk.tokenize import TreebankWordTokenizer\n",
    "from nltk.corpus import stopwords\n",
    "import string\n",
    "import re\n",
    "from nltk.stem import *\n",
    "from pymystem3 import Mystem"
   ]
  },
  {
   "cell_type": "markdown",
   "metadata": {},
   "source": [
    "Задача 1 (2 балла). Чтение данных\n",
    "Прочитайте данные из файла spam.csv, используя средства модуля pandas. В первом столбце пометка о роде письма (spam/ham). Будем считать, что все письма с пометкой spam лежат в первом классе, а остальные - в нулевом. Во второй колонке текст сообщения. Отобразите таблицу в следующем виде:"
   ]
  },
  {
   "cell_type": "code",
   "execution_count": 2,
   "metadata": {},
   "outputs": [
    {
     "data": {
      "text/html": [
       "<div>\n",
       "<table border=\"1\" class=\"dataframe\">\n",
       "  <thead>\n",
       "    <tr style=\"text-align: right;\">\n",
       "      <th></th>\n",
       "      <th>text</th>\n",
       "      <th>class</th>\n",
       "    </tr>\n",
       "  </thead>\n",
       "  <tbody>\n",
       "    <tr>\n",
       "      <th>0</th>\n",
       "      <td>Go until jurong point, crazy.. Available only ...</td>\n",
       "      <td>0</td>\n",
       "    </tr>\n",
       "    <tr>\n",
       "      <th>1</th>\n",
       "      <td>Ok lar... Joking wif u oni...</td>\n",
       "      <td>0</td>\n",
       "    </tr>\n",
       "    <tr>\n",
       "      <th>2</th>\n",
       "      <td>Free entry in 2 a wkly comp to win FA Cup fina...</td>\n",
       "      <td>1</td>\n",
       "    </tr>\n",
       "    <tr>\n",
       "      <th>3</th>\n",
       "      <td>U dun say so early hor... U c already then say...</td>\n",
       "      <td>0</td>\n",
       "    </tr>\n",
       "    <tr>\n",
       "      <th>4</th>\n",
       "      <td>Nah I don't think he goes to usf, he lives aro...</td>\n",
       "      <td>0</td>\n",
       "    </tr>\n",
       "  </tbody>\n",
       "</table>\n",
       "</div>"
      ],
      "text/plain": [
       "                                                text  class\n",
       "0  Go until jurong point, crazy.. Available only ...      0\n",
       "1                      Ok lar... Joking wif u oni...      0\n",
       "2  Free entry in 2 a wkly comp to win FA Cup fina...      1\n",
       "3  U dun say so early hor... U c already then say...      0\n",
       "4  Nah I don't think he goes to usf, he lives aro...      0"
      ]
     },
     "execution_count": 2,
     "metadata": {},
     "output_type": "execute_result"
    }
   ],
   "source": [
    "spam_ham = pd.read_csv('spam.csv', sep=',', encoding='latin-1')\n",
    "spam_ham_columns = spam_ham.loc[:, ['v2','v1']]\n",
    "spam_ham_columns.columns = ['text', 'v1']\n",
    "\n",
    "text_class = []\n",
    "for i in spam_ham_columns['v1']:\n",
    "    if i == 'ham':\n",
    "        text_class.append(0)\n",
    "    elif i == 'spam':\n",
    "        text_class.append(1)\n",
    "\n",
    "new_frame = pd.DataFrame(text_class)\n",
    "new_frame.columns = ['class']\n",
    "\n",
    "result = pd.concat([spam_ham_columns.loc[:, ['text']], new_frame], axis=1)\n",
    "result.head()"
   ]
  },
  {
   "cell_type": "markdown",
   "metadata": {},
   "source": [
    "Задача 2 (3 балла). Предобработка\n",
    "Переведите все буквы в нижний регистр.\n",
    "С помощью регулярных выражений почистите текст, отставляя только слова (удалите знаки препинания; все числа можно заменить на N и т.п.).\n",
    "Оформите это в виде функции, которая принимает на вход некоторый список текстов и возвращает, соответственно, предобработанный список текстов.\n",
    "Преобразуйте таблицу с данными так, чтобы в ней содержались предобработанные тексты (далее мы будем работать только с ними)."
   ]
  },
  {
   "cell_type": "code",
   "execution_count": 3,
   "metadata": {
    "collapsed": true
   },
   "outputs": [],
   "source": [
    "def preprocess(list_of_texts):\n",
    "    preprocessed_texts = []\n",
    "    words_filtered = []\n",
    "\n",
    "    for text in list_of_texts:\n",
    "        tokenizedWords = TreebankWordTokenizer().tokenize(text.lower())\n",
    "        \n",
    "        for wf in tokenizedWords:\n",
    "            for w in re.findall(r'(\\w+)', wf):\n",
    "                for wtf in re.findall(r'(\\D+)', w):\n",
    "                    words_filtered.append(wtf)\n",
    "        preprocessed_texts.append(' '.join(words_filtered))\n",
    "        words_filtered = []\n",
    "    return preprocessed_texts\n"
   ]
  },
  {
   "cell_type": "code",
   "execution_count": 4,
   "metadata": {
    "collapsed": true
   },
   "outputs": [],
   "source": [
    "def to_upd_df(list_of_texts):\n",
    "    \n",
    "    global new_frame\n",
    "    \n",
    "    new_texts_df = pd.DataFrame({'col': list_of_texts})\n",
    "    new_texts_df.columns = ['text']\n",
    "\n",
    "    pr_txt_clss = pd.concat([new_texts_df, new_frame], axis = 1)\n",
    "    return pr_txt_clss"
   ]
  },
  {
   "cell_type": "code",
   "execution_count": 5,
   "metadata": {
    "collapsed": true
   },
   "outputs": [],
   "source": [
    "new_texts_1 = preprocess(result['text'])"
   ]
  },
  {
   "cell_type": "code",
   "execution_count": 6,
   "metadata": {},
   "outputs": [
    {
     "data": {
      "text/html": [
       "<div>\n",
       "<table border=\"1\" class=\"dataframe\">\n",
       "  <thead>\n",
       "    <tr style=\"text-align: right;\">\n",
       "      <th></th>\n",
       "      <th>text</th>\n",
       "      <th>class</th>\n",
       "    </tr>\n",
       "  </thead>\n",
       "  <tbody>\n",
       "    <tr>\n",
       "      <th>0</th>\n",
       "      <td>go until jurong point crazy available only in ...</td>\n",
       "      <td>0</td>\n",
       "    </tr>\n",
       "    <tr>\n",
       "      <th>1</th>\n",
       "      <td>ok lar joking wif u oni</td>\n",
       "      <td>0</td>\n",
       "    </tr>\n",
       "    <tr>\n",
       "      <th>2</th>\n",
       "      <td>free entry in a wkly comp to win fa cup final ...</td>\n",
       "      <td>1</td>\n",
       "    </tr>\n",
       "    <tr>\n",
       "      <th>3</th>\n",
       "      <td>u dun say so early hor u c already then say</td>\n",
       "      <td>0</td>\n",
       "    </tr>\n",
       "    <tr>\n",
       "      <th>4</th>\n",
       "      <td>nah i do n t think he goes to usf he lives aro...</td>\n",
       "      <td>0</td>\n",
       "    </tr>\n",
       "  </tbody>\n",
       "</table>\n",
       "</div>"
      ],
      "text/plain": [
       "                                                text  class\n",
       "0  go until jurong point crazy available only in ...      0\n",
       "1                            ok lar joking wif u oni      0\n",
       "2  free entry in a wkly comp to win fa cup final ...      1\n",
       "3        u dun say so early hor u c already then say      0\n",
       "4  nah i do n t think he goes to usf he lives aro...      0"
      ]
     },
     "execution_count": 6,
     "metadata": {},
     "output_type": "execute_result"
    }
   ],
   "source": [
    "pr_txt_1clss = to_upd_df(new_texts_1)\n",
    "pr_txt_1clss.head()"
   ]
  },
  {
   "cell_type": "markdown",
   "metadata": {},
   "source": [
    "Задача 3 (3 балла). Формирование словаря\n",
    "Сформируйте словарь, ключами которого являются слова, встречающиеся в тексте, а значениями -- количество раз, которое они встретились в корпусе текста.\n",
    "Оформите это в виде функции, которая принимает на вход список текстов и возвращает словарь.\n",
    "Какой размер словаря вы получили?"
   ]
  },
  {
   "cell_type": "code",
   "execution_count": 7,
   "metadata": {
    "collapsed": true
   },
   "outputs": [],
   "source": [
    "def text_to_dict(text_list):\n",
    "\n",
    "    bag_of_words = []\n",
    "\n",
    "    for txt in text_list:\n",
    "        for wrd in txt.split():\n",
    "            bag_of_words.append(wrd)\n",
    "        \n",
    "    unique_words = list(set(bag_of_words))\n",
    "\n",
    "    numbers = []\n",
    "    for item in unique_words:\n",
    "        word_num = bag_of_words.count(item)\n",
    "        numbers.append(word_num)\n",
    "    \n",
    "    dictionary = dict(zip(unique_words, numbers))\n",
    "    \n",
    "    return dictionary\n"
   ]
  },
  {
   "cell_type": "code",
   "execution_count": 8,
   "metadata": {
    "collapsed": true
   },
   "outputs": [],
   "source": [
    "first_dict = text_to_dict(pr_txt_1clss['text'])"
   ]
  },
  {
   "cell_type": "code",
   "execution_count": 9,
   "metadata": {},
   "outputs": [
    {
     "name": "stdout",
     "output_type": "stream",
     "text": [
      "Размер словаря 7753\n"
     ]
    }
   ],
   "source": [
    "print('Размер словаря', len(first_dict))"
   ]
  },
  {
   "cell_type": "markdown",
   "metadata": {},
   "source": [
    "Задача 4 (2 балла). Удаление стоп-слов.\n",
    "Отсортируйте слова по убыванию частоты их встречаемости в текстах.\n",
    "С помощью модуля matplotlib.pyplot постройте график частот встречаемости слов в тексте.\n",
    "Распечатайте топ-10 слов и их частоты.\n",
    "Какие слова чаще всего встречаются в тексте? Значимые ли это слова?"
   ]
  },
  {
   "cell_type": "code",
   "execution_count": 10,
   "metadata": {
    "collapsed": true
   },
   "outputs": [],
   "source": [
    "def freq_sort(dictionary):\n",
    "    dict_words = list(dictionary.keys())\n",
    "    dict_freq = list(dictionary.values())\n",
    "\n",
    "    almost_done = list(zip(dict_words, dict_freq))\n",
    "    almost_done.sort(key = lambda almost_done: almost_done[1], reverse=True)\n",
    "    \n",
    "    return almost_done"
   ]
  },
  {
   "cell_type": "code",
   "execution_count": 11,
   "metadata": {
    "collapsed": true
   },
   "outputs": [],
   "source": [
    "first_sorted = freq_sort(first_dict)"
   ]
  },
  {
   "cell_type": "code",
   "execution_count": 12,
   "metadata": {
    "collapsed": true
   },
   "outputs": [],
   "source": [
    "import matplotlib.pyplot as plt\n",
    "from matplotlib.ticker import FuncFormatter\n",
    "%matplotlib inline"
   ]
  },
  {
   "cell_type": "code",
   "execution_count": 13,
   "metadata": {
    "collapsed": true
   },
   "outputs": [],
   "source": [
    "def to_plot(list_of_tuples):\n",
    "    new_df = pd.DataFrame(list_of_tuples)\n",
    "    new_df.columns = ['word', 'frequency']\n",
    "\n",
    "    new_df.plot(x = 'word', y = 'frequency', figsize = (10.4, 6.8))\n"
   ]
  },
  {
   "cell_type": "code",
   "execution_count": 14,
   "metadata": {},
   "outputs": [
    {
     "data": {
      "image/png": "[encoded data removed]",
      "text/plain": [
       "<matplotlib.figure.Figure at 0x7f6dbc6eb6d8>"
      ]
     },
     "metadata": {},
     "output_type": "display_data"
    }
   ],
   "source": [
    "to_plot(first_sorted)"
   ]
  },
  {
   "cell_type": "code",
   "execution_count": 15,
   "metadata": {},
   "outputs": [
    {
     "data": {
      "text/plain": [
       "[('i', 3011),\n",
       " ('you', 2242),\n",
       " ('to', 2242),\n",
       " ('a', 1449),\n",
       " ('the', 1332),\n",
       " ('u', 1212),\n",
       " ('and', 979),\n",
       " ('in', 902),\n",
       " ('is', 901),\n",
       " ('me', 814)]"
      ]
     },
     "execution_count": 15,
     "metadata": {},
     "output_type": "execute_result"
    }
   ],
   "source": [
    "first_sorted[:10]"
   ]
  },
  {
   "cell_type": "markdown",
   "metadata": {},
   "source": [
    "Вывод: чаще всего используются личные местоимения, союзы и артикли, которые не несут значительной смысловой нагрузки"
   ]
  },
  {
   "cell_type": "markdown",
   "metadata": {},
   "source": [
    "Задача 5 (5 баллов). Функциия предобработки и удаление стоп-слов.\n",
    "Для удаления стоп-слов можно использовать модуль nltk. Импортируйте stopwords из nltk.corpus, далее, чтобы получить список английских стоп-слов, нужно сделать stopwords.words('english').\n",
    "Перепишите функцию предобработки так, чтобы она на вход принимала список текстов и список стоп-слов, чистила текст (в том числе удаляла стоп-слова), возвращала список предобработанных текстов.\n",
    "Преобразуйте таблицу с данными так, чтобы в ней содержались новые предобработанные тексты (далее мы будем работать только с ними).\n",
    "Сформируйте словарь.\n",
    "Постройте график частот встречаемости слов в тексте.\n",
    "Распечатайте топ-10 слов и их частоты.\n",
    "Какой размер словаря вы получили теперь? Остались ли ещё высокочастотные неинформативные слова? Что это за слова? Добавте их в список стоп-слов и повторите процедуру."
   ]
  },
  {
   "cell_type": "code",
   "execution_count": 16,
   "metadata": {
    "collapsed": true
   },
   "outputs": [],
   "source": [
    "stopWords = set(stopwords.words('english'))"
   ]
  },
  {
   "cell_type": "code",
   "execution_count": 17,
   "metadata": {
    "collapsed": true
   },
   "outputs": [],
   "source": [
    "def preprocess_stopWds(list_of_texts, list_of_SW):\n",
    "    preprocessed_texts = []\n",
    "    text = []\n",
    "    \n",
    "    for txt in list_of_texts:\n",
    "        for w in txt.split():\n",
    "            if w not in list_of_SW:\n",
    "                text.append(w)\n",
    "            \n",
    "        preprocessed_texts.append(' '.join(text))\n",
    "        text = []\n",
    "                \n",
    "    return preprocessed_texts"
   ]
  },
  {
   "cell_type": "code",
   "execution_count": 18,
   "metadata": {
    "collapsed": true
   },
   "outputs": [],
   "source": [
    "new_texts_2 = preprocess_stopWds(pr_txt_1clss['text'], stopWords)"
   ]
  },
  {
   "cell_type": "code",
   "execution_count": 19,
   "metadata": {},
   "outputs": [
    {
     "data": {
      "text/html": [
       "<div>\n",
       "<table border=\"1\" class=\"dataframe\">\n",
       "  <thead>\n",
       "    <tr style=\"text-align: right;\">\n",
       "      <th></th>\n",
       "      <th>text</th>\n",
       "      <th>class</th>\n",
       "    </tr>\n",
       "  </thead>\n",
       "  <tbody>\n",
       "    <tr>\n",
       "      <th>0</th>\n",
       "      <td>go jurong point crazy available bugis n great ...</td>\n",
       "      <td>0</td>\n",
       "    </tr>\n",
       "    <tr>\n",
       "      <th>1</th>\n",
       "      <td>ok lar joking wif u oni</td>\n",
       "      <td>0</td>\n",
       "    </tr>\n",
       "    <tr>\n",
       "      <th>2</th>\n",
       "      <td>free entry wkly comp win fa cup final tkts st ...</td>\n",
       "      <td>1</td>\n",
       "    </tr>\n",
       "    <tr>\n",
       "      <th>3</th>\n",
       "      <td>u dun say early hor u c already say</td>\n",
       "      <td>0</td>\n",
       "    </tr>\n",
       "    <tr>\n",
       "      <th>4</th>\n",
       "      <td>nah n think goes usf lives around though</td>\n",
       "      <td>0</td>\n",
       "    </tr>\n",
       "  </tbody>\n",
       "</table>\n",
       "</div>"
      ],
      "text/plain": [
       "                                                text  class\n",
       "0  go jurong point crazy available bugis n great ...      0\n",
       "1                            ok lar joking wif u oni      0\n",
       "2  free entry wkly comp win fa cup final tkts st ...      1\n",
       "3                u dun say early hor u c already say      0\n",
       "4           nah n think goes usf lives around though      0"
      ]
     },
     "execution_count": 19,
     "metadata": {},
     "output_type": "execute_result"
    }
   ],
   "source": [
    "pr_txt_2clss = to_upd_df(new_texts_2)\n",
    "pr_txt_2clss.head()"
   ]
  },
  {
   "cell_type": "code",
   "execution_count": 20,
   "metadata": {
    "collapsed": true
   },
   "outputs": [],
   "source": [
    "second_dict = text_to_dict(pr_txt_2clss['text'])"
   ]
  },
  {
   "cell_type": "code",
   "execution_count": 21,
   "metadata": {
    "collapsed": true
   },
   "outputs": [],
   "source": [
    "second_sorted = freq_sort(second_dict)"
   ]
  },
  {
   "cell_type": "code",
   "execution_count": 22,
   "metadata": {},
   "outputs": [
    {
     "data": {
      "image/png": "[encoded data removed]",
      "text/plain": [
       "<matplotlib.figure.Figure at 0x7f6dbc70a5c0>"
      ]
     },
     "metadata": {},
     "output_type": "display_data"
    }
   ],
   "source": [
    "to_plot(second_sorted)"
   ]
  },
  {
   "cell_type": "code",
   "execution_count": 23,
   "metadata": {},
   "outputs": [
    {
     "data": {
      "text/plain": [
       "[('u', 1212),\n",
       " ('call', 606),\n",
       " ('n', 532),\n",
       " ('get', 397),\n",
       " ('ur', 385),\n",
       " ('gt', 318),\n",
       " ('lt', 316),\n",
       " ('å', 304),\n",
       " ('ok', 292),\n",
       " ('free', 288),\n",
       " ('go', 286),\n",
       " ('know', 261),\n",
       " ('got', 252),\n",
       " ('good', 245),\n",
       " ('like', 245),\n",
       " ('day', 240),\n",
       " ('come', 230),\n",
       " ('time', 220),\n",
       " ('love', 209),\n",
       " ('send', 199),\n",
       " ('want', 195),\n",
       " ('text', 195),\n",
       " ('p', 186),\n",
       " ('txt', 184),\n",
       " ('one', 175),\n",
       " ('going', 173),\n",
       " ('r', 171),\n",
       " ('need', 168),\n",
       " ('home', 167),\n",
       " ('stop', 163),\n",
       " ('lor', 162),\n",
       " ('sorry', 160),\n",
       " ('today', 160),\n",
       " ('k', 160),\n",
       " ('see', 158),\n",
       " ('still', 157),\n",
       " ('back', 153),\n",
       " ('da', 151),\n",
       " ('reply', 148),\n",
       " ('dont', 144)]"
      ]
     },
     "execution_count": 23,
     "metadata": {},
     "output_type": "execute_result"
    }
   ],
   "source": [
    "second_sorted[:40]"
   ]
  },
  {
   "cell_type": "code",
   "execution_count": 24,
   "metadata": {},
   "outputs": [
    {
     "name": "stdout",
     "output_type": "stream",
     "text": [
      "7616 vs 7753\n"
     ]
    }
   ],
   "source": [
    "print(len(second_dict), 'vs', len(first_dict))"
   ]
  },
  {
   "cell_type": "markdown",
   "metadata": {},
   "source": [
    "После удаления стоп-слов словарь стал короче на 137 слов. При этом остались довольно частотные, но семантически мало значимые или совсем незначимые слова: 'u','call', 'n','get', 'ur', 'gt', 'lt', 'å', 'ok', 'got', 'p', 'r', 'k', 'da', 'lor'.\n",
    "Добавим их к списку слов и проведем обработку текстов еще раз:"
   ]
  },
  {
   "cell_type": "code",
   "execution_count": 25,
   "metadata": {
    "collapsed": true
   },
   "outputs": [],
   "source": [
    "add_SW = ['u','call', 'n','get', 'ur', 'gt', 'lt', 'å', 'ok', 'got', 'p', 'r', 'k', 'da', 'lor']\n",
    "SW_upd = list(stopWords) + add_SW\n"
   ]
  },
  {
   "cell_type": "code",
   "execution_count": 26,
   "metadata": {
    "collapsed": true
   },
   "outputs": [],
   "source": [
    "new_texts_3 = preprocess_stopWds(pr_txt_2clss['text'], SW_upd)"
   ]
  },
  {
   "cell_type": "code",
   "execution_count": 27,
   "metadata": {},
   "outputs": [
    {
     "data": {
      "text/html": [
       "<div>\n",
       "<table border=\"1\" class=\"dataframe\">\n",
       "  <thead>\n",
       "    <tr style=\"text-align: right;\">\n",
       "      <th></th>\n",
       "      <th>text</th>\n",
       "      <th>class</th>\n",
       "    </tr>\n",
       "  </thead>\n",
       "  <tbody>\n",
       "    <tr>\n",
       "      <th>0</th>\n",
       "      <td>go jurong point crazy available bugis great wo...</td>\n",
       "      <td>0</td>\n",
       "    </tr>\n",
       "    <tr>\n",
       "      <th>1</th>\n",
       "      <td>lar joking wif oni</td>\n",
       "      <td>0</td>\n",
       "    </tr>\n",
       "    <tr>\n",
       "      <th>2</th>\n",
       "      <td>free entry wkly comp win fa cup final tkts st ...</td>\n",
       "      <td>1</td>\n",
       "    </tr>\n",
       "    <tr>\n",
       "      <th>3</th>\n",
       "      <td>dun say early hor c already say</td>\n",
       "      <td>0</td>\n",
       "    </tr>\n",
       "    <tr>\n",
       "      <th>4</th>\n",
       "      <td>nah think goes usf lives around though</td>\n",
       "      <td>0</td>\n",
       "    </tr>\n",
       "  </tbody>\n",
       "</table>\n",
       "</div>"
      ],
      "text/plain": [
       "                                                text  class\n",
       "0  go jurong point crazy available bugis great wo...      0\n",
       "1                                 lar joking wif oni      0\n",
       "2  free entry wkly comp win fa cup final tkts st ...      1\n",
       "3                    dun say early hor c already say      0\n",
       "4             nah think goes usf lives around though      0"
      ]
     },
     "execution_count": 27,
     "metadata": {},
     "output_type": "execute_result"
    }
   ],
   "source": [
    "pr_txt_3clss = to_upd_df(new_texts_3)\n",
    "pr_txt_3clss.head()"
   ]
  },
  {
   "cell_type": "code",
   "execution_count": 28,
   "metadata": {
    "collapsed": true
   },
   "outputs": [],
   "source": [
    "third_dict = text_to_dict(pr_txt_3clss['text'])"
   ]
  },
  {
   "cell_type": "code",
   "execution_count": 29,
   "metadata": {
    "collapsed": true
   },
   "outputs": [],
   "source": [
    "third_sorted = freq_sort(third_dict)"
   ]
  },
  {
   "cell_type": "code",
   "execution_count": 30,
   "metadata": {},
   "outputs": [
    {
     "data": {
      "image/png": "[encoded data removed]",
      "text/plain": [
       "<matplotlib.figure.Figure at 0x7f6dbc6a27b8>"
      ]
     },
     "metadata": {},
     "output_type": "display_data"
    }
   ],
   "source": [
    "to_plot(third_sorted)"
   ]
  },
  {
   "cell_type": "code",
   "execution_count": 31,
   "metadata": {},
   "outputs": [
    {
     "data": {
      "text/plain": [
       "[('free', 288),\n",
       " ('go', 286),\n",
       " ('know', 261),\n",
       " ('good', 245),\n",
       " ('like', 245),\n",
       " ('day', 240),\n",
       " ('come', 230),\n",
       " ('time', 220),\n",
       " ('love', 209),\n",
       " ('send', 199)]"
      ]
     },
     "execution_count": 31,
     "metadata": {},
     "output_type": "execute_result"
    }
   ],
   "source": [
    "third_sorted[:10]"
   ]
  },
  {
   "cell_type": "code",
   "execution_count": 32,
   "metadata": {},
   "outputs": [
    {
     "name": "stdout",
     "output_type": "stream",
     "text": [
      "7601 vs 7616 vs 7753\n"
     ]
    }
   ],
   "source": [
    "print(len(third_dict), 'vs', len(second_dict), 'vs', len(first_dict))"
   ]
  },
  {
   "cell_type": "markdown",
   "metadata": {},
   "source": [
    "Словарь стал короче еще на 15 слов (совпадает с количеством добавленных стоп-слов). Самые частотные слова теперь семантически более значимы."
   ]
  },
  {
   "cell_type": "markdown",
   "metadata": {},
   "source": [
    "Задача 6 (5 баллов). Удаление низкочастотных слов.\n",
    "По сформированому на предыдущем шаге словарю посмотрите, какой процент слов встречается больше одного раза. Нужны ли нам слова, которые встретились только один раз?\n",
    "Преобразуйте функцию предобработки таким образом, чтобы в ней, кроме всего прочего, формировался словарь и удалялись слишком редкие слова.\n",
    "Преобразуйте таблицу с данными так, чтобы в ней содержались новые предобработанные тексты (далее мы будем работать только с ними).\n",
    "Сформируйте словарь. Каков размер словаря теперь?"
   ]
  },
  {
   "cell_type": "code",
   "execution_count": 33,
   "metadata": {
    "collapsed": true
   },
   "outputs": [],
   "source": [
    "rare_words = []\n",
    "\n",
    "for key in third_dict:\n",
    "    if third_dict.get(key) == 1:\n",
    "        rare_words.append(key)"
   ]
  },
  {
   "cell_type": "code",
   "execution_count": 34,
   "metadata": {},
   "outputs": [
    {
     "name": "stdout",
     "output_type": "stream",
     "text": [
      "3825 vs 7601\n"
     ]
    }
   ],
   "source": [
    "print(len(rare_words), 'vs', len(third_dict))"
   ]
  },
  {
   "cell_type": "markdown",
   "metadata": {},
   "source": [
    "Получили 3825 слов, встречающихся по одному разу (всего слов в словаре 7601, то есть низкочастотных слов примерно половина от общего количества."
   ]
  },
  {
   "cell_type": "code",
   "execution_count": 35,
   "metadata": {
    "collapsed": true
   },
   "outputs": [],
   "source": [
    "def preprocess_final(list_of_texts):\n",
    "    \n",
    "    bag_of_words = []\n",
    "\n",
    "    for txt in list_of_texts:\n",
    "        for wrd in txt.split():\n",
    "            bag_of_words.append(wrd)\n",
    "        \n",
    "    unique_words = list(set(bag_of_words))\n",
    "    \n",
    "    words = []\n",
    "    numbers = []\n",
    "    for item in unique_words:\n",
    "        word_num = bag_of_words.count(item)\n",
    "        if word_num != 1:\n",
    "            words.append(item)\n",
    "            numbers.append(word_num)\n",
    "    \n",
    "    dictionary = dict(zip(words, numbers))\n",
    "    \n",
    "    new_texts = []\n",
    "    text = []\n",
    "    \n",
    "    for txt in list_of_texts:\n",
    "        for w in txt.split():\n",
    "            if w in words:\n",
    "                text.append(w)\n",
    "        new_texts.append(' '.join(text))\n",
    "        text = []\n",
    "            \n",
    "    \n",
    "    return new_texts, dictionary"
   ]
  },
  {
   "cell_type": "code",
   "execution_count": 36,
   "metadata": {
    "collapsed": true
   },
   "outputs": [],
   "source": [
    "final_texts, final_dictinary = preprocess_final(pr_txt_3clss['text'])"
   ]
  },
  {
   "cell_type": "code",
   "execution_count": 37,
   "metadata": {},
   "outputs": [
    {
     "data": {
      "text/html": [
       "<div>\n",
       "<table border=\"1\" class=\"dataframe\">\n",
       "  <thead>\n",
       "    <tr style=\"text-align: right;\">\n",
       "      <th></th>\n",
       "      <th>text</th>\n",
       "      <th>class</th>\n",
       "    </tr>\n",
       "  </thead>\n",
       "  <tbody>\n",
       "    <tr>\n",
       "      <th>0</th>\n",
       "      <td>go point crazy available bugis great world la ...</td>\n",
       "      <td>0</td>\n",
       "    </tr>\n",
       "    <tr>\n",
       "      <th>1</th>\n",
       "      <td>lar joking wif oni</td>\n",
       "      <td>0</td>\n",
       "    </tr>\n",
       "    <tr>\n",
       "      <th>2</th>\n",
       "      <td>free entry wkly comp win fa cup final tkts st ...</td>\n",
       "      <td>1</td>\n",
       "    </tr>\n",
       "    <tr>\n",
       "      <th>3</th>\n",
       "      <td>dun say early hor c already say</td>\n",
       "      <td>0</td>\n",
       "    </tr>\n",
       "    <tr>\n",
       "      <th>4</th>\n",
       "      <td>nah think goes usf lives around though</td>\n",
       "      <td>0</td>\n",
       "    </tr>\n",
       "  </tbody>\n",
       "</table>\n",
       "</div>"
      ],
      "text/plain": [
       "                                                text  class\n",
       "0  go point crazy available bugis great world la ...      0\n",
       "1                                 lar joking wif oni      0\n",
       "2  free entry wkly comp win fa cup final tkts st ...      1\n",
       "3                    dun say early hor c already say      0\n",
       "4             nah think goes usf lives around though      0"
      ]
     },
     "execution_count": 37,
     "metadata": {},
     "output_type": "execute_result"
    }
   ],
   "source": [
    "pr_txt_Fclss = to_upd_df(final_texts)\n",
    "pr_txt_Fclss.head()"
   ]
  },
  {
   "cell_type": "code",
   "execution_count": 38,
   "metadata": {},
   "outputs": [
    {
     "data": {
      "text/plain": [
       "3776"
      ]
     },
     "execution_count": 38,
     "metadata": {},
     "output_type": "execute_result"
    }
   ],
   "source": [
    "len(final_dictinary)"
   ]
  },
  {
   "cell_type": "markdown",
   "metadata": {},
   "source": [
    "Теперь размер словаря 3776 (что равняется разнице длины предыдущего словаря и количества слов единичной с частотностью: 7601 - 3825 = 3776)"
   ]
  },
  {
   "cell_type": "markdown",
   "metadata": {},
   "source": [
    "Задача 7 (5 баллов). Представление в виде мешка слов\n",
    "Реализуйте свою функцию, которая по списку текстов строит представление в виде мешка слов. На вход подаётся список текстов, а возвращается список имен признаков (т.е. слова, по которым мы строим представление -- их порядок должен быть зафиксирован) и numpy.array, который содержит вектора, каждая позиция которого -- число вхождений данного признака (слова) в текст.\n",
    "Сейчас мы реализовываем данную функцию в учебных целях, а вообще велосипед изобретать не стоит! Если вам нужно такое представление, то задействуйте модуль sklearn.feature_extraction.text. Импортируйте из него класс CountVectorizer. Создайте экземпляр класса с параметрами по умолчанию, а далее примените метод fit_transform для извлечения векторного представления текста. Чтобы получить список имён призков, нужно воспользоваться методом get_feature_names. Проверьте, что ваша функция работает также (с точностью до перестановки признаков).\n",
    "Измерьте скорость работы вашей функции и метода fit_transform. Для этого можно воспользоваться функцией time из модуля time. Постарайтесь максимально оптимизировать вашу функцию (время работы функции не должно привышать 10 с., за превышения лимита будут сняты баллы).\n"
   ]
  },
  {
   "cell_type": "code",
   "execution_count": 39,
   "metadata": {
    "collapsed": true
   },
   "outputs": [],
   "source": [
    "\n",
    "def count_vectorizer(texts):\n",
    "\n",
    "    words = []\n",
    "\n",
    "    for txt in texts:\n",
    "        for w in txt.split():\n",
    "            if len(w) != 1:       #убираем слова длиной 1, т.к. последующее сравнение показывает,\n",
    "                words.append(w)    #что CountVectorizer и TfidfVectorizer удаляют такие слова при\n",
    "                                    #дефолтных настройках\n",
    "    bag_of_words = set(words)\n",
    "    features_names = list(bag_of_words)\n",
    "    features_names.sort()\n",
    "\n",
    "    count_features = np.zeros((len(texts), len(features_names)))\n",
    "\n",
    "    for text in texts:\n",
    "        for wd in text.split():\n",
    "            if len(wd) != 1:\n",
    "                count_features[texts.index(text), features_names.index(wd)] = count_features[texts.index(text), features_names.index(wd)]+1\n",
    "\n",
    "   \n",
    "    return features_names, count_features"
   ]
  },
  {
   "cell_type": "code",
   "execution_count": 40,
   "metadata": {},
   "outputs": [
    {
     "name": "stdout",
     "output_type": "stream",
     "text": [
      "CPU times: user 5.82 s, sys: 170 ms, total: 5.99 s\n",
      "Wall time: 6.01 s\n"
     ]
    },
    {
     "data": {
      "text/plain": [
       "(['____',\n",
       "  'aah',\n",
       "  'aathi',\n",
       "  'abi',\n",
       "  'ability',\n",
       "  'abiola',\n",
       "  'abj',\n",
       "  'able',\n",
       "  'absolutly',\n",
       "  'abt',\n",
       "  'abta',\n",
       "  'aburo',\n",
       "  'ac',\n",
       "  'academic',\n",
       "  'acc',\n",
       "  'accept',\n",
       "  'access',\n",
       "  'accident',\n",
       "  'accidentally',\n",
       "  'accordingly',\n",
       "  'account',\n",
       "  'accounts',\n",
       "  'ache',\n",
       "  'acl',\n",
       "  'aco',\n",
       "  'across',\n",
       "  'acted',\n",
       "  'action',\n",
       "  'activate',\n",
       "  'active',\n",
       "  'activities',\n",
       "  'actor',\n",
       "  'actual',\n",
       "  'actually',\n",
       "  'ad',\n",
       "  'adam',\n",
       "  'add',\n",
       "  'addamsfa',\n",
       "  'added',\n",
       "  'addicted',\n",
       "  'addie',\n",
       "  'address',\n",
       "  'admin',\n",
       "  'administrator',\n",
       "  'admirer',\n",
       "  'admit',\n",
       "  'adore',\n",
       "  'adoring',\n",
       "  'ads',\n",
       "  'adult',\n",
       "  'advance',\n",
       "  'adventure',\n",
       "  'advice',\n",
       "  'advise',\n",
       "  'ae',\n",
       "  'aeronautics',\n",
       "  'aeroplane',\n",
       "  'affair',\n",
       "  'affairs',\n",
       "  'affection',\n",
       "  'afraid',\n",
       "  'aft',\n",
       "  'afternoon',\n",
       "  'aftr',\n",
       "  'ag',\n",
       "  'agalla',\n",
       "  'age',\n",
       "  'ages',\n",
       "  'ago',\n",
       "  'agree',\n",
       "  'ah',\n",
       "  'aha',\n",
       "  'ahead',\n",
       "  'ahmad',\n",
       "  'ai',\n",
       "  'aight',\n",
       "  'aint',\n",
       "  'air',\n",
       "  'airport',\n",
       "  'airtel',\n",
       "  'aiya',\n",
       "  'aiyah',\n",
       "  'aiyar',\n",
       "  'aiyo',\n",
       "  'aj',\n",
       "  'aka',\n",
       "  'al',\n",
       "  'alaipayuthe',\n",
       "  'album',\n",
       "  'alcohol',\n",
       "  'alert',\n",
       "  'alex',\n",
       "  'alfie',\n",
       "  'algarve',\n",
       "  'ali',\n",
       "  'alive',\n",
       "  'allah',\n",
       "  'allow',\n",
       "  'allowed',\n",
       "  'almost',\n",
       "  'alone',\n",
       "  'along',\n",
       "  'already',\n",
       "  'alright',\n",
       "  'alrite',\n",
       "  'also',\n",
       "  'although',\n",
       "  'always',\n",
       "  'alwys',\n",
       "  'amazing',\n",
       "  'american',\n",
       "  'among',\n",
       "  'amongst',\n",
       "  'amount',\n",
       "  'amp',\n",
       "  'amt',\n",
       "  'amused',\n",
       "  'amy',\n",
       "  'andros',\n",
       "  'angry',\n",
       "  'anna',\n",
       "  'annie',\n",
       "  'anniversary',\n",
       "  'announcement',\n",
       "  'annoying',\n",
       "  'anot',\n",
       "  'another',\n",
       "  'ans',\n",
       "  'ansr',\n",
       "  'answer',\n",
       "  'answered',\n",
       "  'answering',\n",
       "  'answers',\n",
       "  'anthony',\n",
       "  'anti',\n",
       "  'anybody',\n",
       "  'anymore',\n",
       "  'anyone',\n",
       "  'anythin',\n",
       "  'anything',\n",
       "  'anytime',\n",
       "  'anyway',\n",
       "  'anyways',\n",
       "  'anywhere',\n",
       "  'aom',\n",
       "  'apart',\n",
       "  'apartment',\n",
       "  'apo',\n",
       "  'apologise',\n",
       "  'app',\n",
       "  'apparently',\n",
       "  'applebees',\n",
       "  'application',\n",
       "  'apply',\n",
       "  'appointment',\n",
       "  'appreciate',\n",
       "  'appreciated',\n",
       "  'approx',\n",
       "  'apps',\n",
       "  'appt',\n",
       "  'april',\n",
       "  'aproach',\n",
       "  'ar',\n",
       "  'arcade',\n",
       "  'ard',\n",
       "  'area',\n",
       "  'arent',\n",
       "  'argh',\n",
       "  'argue',\n",
       "  'argument',\n",
       "  'arm',\n",
       "  'armand',\n",
       "  'arms',\n",
       "  'arng',\n",
       "  'around',\n",
       "  'arrange',\n",
       "  'arrested',\n",
       "  'arrive',\n",
       "  'arsenal',\n",
       "  'art',\n",
       "  'arts',\n",
       "  'arun',\n",
       "  'asap',\n",
       "  'ashley',\n",
       "  'ask',\n",
       "  'askd',\n",
       "  'asked',\n",
       "  'askin',\n",
       "  'asking',\n",
       "  'asks',\n",
       "  'asleep',\n",
       "  'asp',\n",
       "  'ass',\n",
       "  'assume',\n",
       "  'ate',\n",
       "  'atlanta',\n",
       "  'atlast',\n",
       "  'atm',\n",
       "  'attached',\n",
       "  'attempt',\n",
       "  'attend',\n",
       "  'auction',\n",
       "  'audition',\n",
       "  'audrey',\n",
       "  'august',\n",
       "  'aunt',\n",
       "  'aunts',\n",
       "  'aunty',\n",
       "  'auto',\n",
       "  'av',\n",
       "  'available',\n",
       "  'avatar',\n",
       "  'ave',\n",
       "  'avent',\n",
       "  'avoid',\n",
       "  'avoiding',\n",
       "  'await',\n",
       "  'awaiting',\n",
       "  'awake',\n",
       "  'award',\n",
       "  'awarded',\n",
       "  'away',\n",
       "  'awesome',\n",
       "  'aww',\n",
       "  'ayn',\n",
       "  'ba',\n",
       "  'babe',\n",
       "  'babes',\n",
       "  'babies',\n",
       "  'baby',\n",
       "  'back',\n",
       "  'bad',\n",
       "  'bag',\n",
       "  'bags',\n",
       "  'bahamas',\n",
       "  'bak',\n",
       "  'balance',\n",
       "  'ball',\n",
       "  'bang',\n",
       "  'bank',\n",
       "  'banks',\n",
       "  'bar',\n",
       "  'barely',\n",
       "  'base',\n",
       "  'basic',\n",
       "  'basically',\n",
       "  'bat',\n",
       "  'batch',\n",
       "  'bath',\n",
       "  'bathe',\n",
       "  'bathing',\n",
       "  'battery',\n",
       "  'bay',\n",
       "  'bb',\n",
       "  'bbd',\n",
       "  'bc',\n",
       "  'bck',\n",
       "  'bcm',\n",
       "  'bcoz',\n",
       "  'bcums',\n",
       "  'bday',\n",
       "  'bear',\n",
       "  'bears',\n",
       "  'beautiful',\n",
       "  'beauty',\n",
       "  'bec',\n",
       "  'become',\n",
       "  'becomes',\n",
       "  'becoz',\n",
       "  'bed',\n",
       "  'bedrm',\n",
       "  'bedroom',\n",
       "  'beer',\n",
       "  'befor',\n",
       "  'beg',\n",
       "  'begging',\n",
       "  'begin',\n",
       "  'behave',\n",
       "  'behind',\n",
       "  'bein',\n",
       "  'believe',\n",
       "  'belive',\n",
       "  'bell',\n",
       "  'belly',\n",
       "  'belovd',\n",
       "  'beloved',\n",
       "  'ben',\n",
       "  'beneath',\n",
       "  'beneficiary',\n",
       "  'benefits',\n",
       "  'best',\n",
       "  'bet',\n",
       "  'better',\n",
       "  'beware',\n",
       "  'beyond',\n",
       "  'bf',\n",
       "  'bhaji',\n",
       "  'bid',\n",
       "  'bids',\n",
       "  'big',\n",
       "  'bigger',\n",
       "  'biggest',\n",
       "  'bill',\n",
       "  'billed',\n",
       "  'billion',\n",
       "  'bills',\n",
       "  'bin',\n",
       "  'biola',\n",
       "  'bird',\n",
       "  'birds',\n",
       "  'birla',\n",
       "  'birth',\n",
       "  'birthdate',\n",
       "  'birthday',\n",
       "  'bishan',\n",
       "  'bit',\n",
       "  'bitch',\n",
       "  'bite',\n",
       "  'biz',\n",
       "  'black',\n",
       "  'blackberry',\n",
       "  'blah',\n",
       "  'blake',\n",
       "  'blame',\n",
       "  'blank',\n",
       "  'bleh',\n",
       "  'bless',\n",
       "  'blessed',\n",
       "  'blessing',\n",
       "  'blessings',\n",
       "  'blind',\n",
       "  'block',\n",
       "  'bloke',\n",
       "  'blonde',\n",
       "  'bloo',\n",
       "  'blood',\n",
       "  'bloody',\n",
       "  'bloomberg',\n",
       "  'blow',\n",
       "  'blu',\n",
       "  'blue',\n",
       "  'bluetooth',\n",
       "  'bluff',\n",
       "  'blur',\n",
       "  'bmw',\n",
       "  'boat',\n",
       "  'body',\n",
       "  'bold',\n",
       "  'bone',\n",
       "  'bonus',\n",
       "  'boo',\n",
       "  'book',\n",
       "  'booked',\n",
       "  'booking',\n",
       "  'books',\n",
       "  'boost',\n",
       "  'booty',\n",
       "  'bootydelious',\n",
       "  'bored',\n",
       "  'borin',\n",
       "  'boring',\n",
       "  'born',\n",
       "  'borrow',\n",
       "  'boss',\n",
       "  'boston',\n",
       "  'bother',\n",
       "  'bottle',\n",
       "  'bottom',\n",
       "  'bought',\n",
       "  'bout',\n",
       "  'bowl',\n",
       "  'box',\n",
       "  'boy',\n",
       "  'boye',\n",
       "  'boyfriend',\n",
       "  'boys',\n",
       "  'boytoy',\n",
       "  'bp',\n",
       "  'brah',\n",
       "  'brain',\n",
       "  'brand',\n",
       "  'brandy',\n",
       "  'bray',\n",
       "  'bread',\n",
       "  'break',\n",
       "  'breath',\n",
       "  'breathe',\n",
       "  'brief',\n",
       "  'bright',\n",
       "  'brilliant',\n",
       "  'bring',\n",
       "  'bringing',\n",
       "  'brings',\n",
       "  'bristol',\n",
       "  'british',\n",
       "  'britney',\n",
       "  'bro',\n",
       "  'broad',\n",
       "  'broke',\n",
       "  'broken',\n",
       "  'bros',\n",
       "  'brothas',\n",
       "  'brother',\n",
       "  'brought',\n",
       "  'bruce',\n",
       "  'bruv',\n",
       "  'bslvyl',\n",
       "  'bstfrnd',\n",
       "  'bt',\n",
       "  'btw',\n",
       "  'bucks',\n",
       "  'bud',\n",
       "  'budget',\n",
       "  'buff',\n",
       "  'buffet',\n",
       "  'bugis',\n",
       "  'build',\n",
       "  'building',\n",
       "  'bulbs',\n",
       "  'buns',\n",
       "  'burger',\n",
       "  'burning',\n",
       "  'burns',\n",
       "  'bus',\n",
       "  'buses',\n",
       "  'business',\n",
       "  'busy',\n",
       "  'butt',\n",
       "  'buy',\n",
       "  'buying',\n",
       "  'buzy',\n",
       "  'buzz',\n",
       "  'bx',\n",
       "  'bye',\n",
       "  'båõday',\n",
       "  'ca',\n",
       "  'cabin',\n",
       "  'cafe',\n",
       "  'cake',\n",
       "  'cal',\n",
       "  'calculation',\n",
       "  'cali',\n",
       "  'calicut',\n",
       "  'california',\n",
       "  'callback',\n",
       "  'callcost',\n",
       "  'calld',\n",
       "  'called',\n",
       "  'caller',\n",
       "  'callers',\n",
       "  'callertune',\n",
       "  'callfreefone',\n",
       "  'callin',\n",
       "  'calling',\n",
       "  'calls',\n",
       "  'callså',\n",
       "  'calm',\n",
       "  'cam',\n",
       "  'camcorder',\n",
       "  'came',\n",
       "  'camera',\n",
       "  'campus',\n",
       "  'canada',\n",
       "  'canal',\n",
       "  'canary',\n",
       "  'cancel',\n",
       "  'cancelled',\n",
       "  'cancer',\n",
       "  'cant',\n",
       "  'capital',\n",
       "  'cappuccino',\n",
       "  'captain',\n",
       "  'car',\n",
       "  'card',\n",
       "  'cardiff',\n",
       "  'care',\n",
       "  'cared',\n",
       "  'career',\n",
       "  'careers',\n",
       "  'careful',\n",
       "  'carefully',\n",
       "  'cares',\n",
       "  'caring',\n",
       "  'carlos',\n",
       "  'caroline',\n",
       "  'carry',\n",
       "  'cars',\n",
       "  'cartoon',\n",
       "  'case',\n",
       "  'cash',\n",
       "  'cashbin',\n",
       "  'cashto',\n",
       "  'castor',\n",
       "  'cat',\n",
       "  'catch',\n",
       "  'catching',\n",
       "  'caught',\n",
       "  'cause',\n",
       "  'causing',\n",
       "  'cbe',\n",
       "  'cc',\n",
       "  'cd',\n",
       "  'cdgt',\n",
       "  'cds',\n",
       "  'celeb',\n",
       "  'celebrate',\n",
       "  'celebration',\n",
       "  'cell',\n",
       "  'center',\n",
       "  'centre',\n",
       "  'certainly',\n",
       "  'ch',\n",
       "  'cha',\n",
       "  'chain',\n",
       "  'challenge',\n",
       "  'chance',\n",
       "  'chances',\n",
       "  'change',\n",
       "  'changed',\n",
       "  'changes',\n",
       "  'channel',\n",
       "  'character',\n",
       "  'charge',\n",
       "  'charged',\n",
       "  'charges',\n",
       "  'charity',\n",
       "  'charles',\n",
       "  'chart',\n",
       "  'chase',\n",
       "  'chasing',\n",
       "  'chat',\n",
       "  'chatting',\n",
       "  'cheap',\n",
       "  'cheaper',\n",
       "  'cheat',\n",
       "  'cheating',\n",
       "  'chechi',\n",
       "  'check',\n",
       "  'checked',\n",
       "  'checking',\n",
       "  'cheer',\n",
       "  'cheers',\n",
       "  'cheese',\n",
       "  'chennai',\n",
       "  'cherish',\n",
       "  'chest',\n",
       "  'chicken',\n",
       "  'chikku',\n",
       "  'child',\n",
       "  'childish',\n",
       "  'children',\n",
       "  'chill',\n",
       "  'chillin',\n",
       "  'china',\n",
       "  'chinese',\n",
       "  'chip',\n",
       "  'chocolate',\n",
       "  'choice',\n",
       "  'choose',\n",
       "  'chosen',\n",
       "  'christ',\n",
       "  'christmas',\n",
       "  'church',\n",
       "  'cine',\n",
       "  'cinema',\n",
       "  'citizen',\n",
       "  'city',\n",
       "  'claim',\n",
       "  'claims',\n",
       "  'claire',\n",
       "  'clark',\n",
       "  'class',\n",
       "  'classes',\n",
       "  'cld',\n",
       "  'clean',\n",
       "  'cleaning',\n",
       "  'clear',\n",
       "  'cleared',\n",
       "  'clearing',\n",
       "  'clearly',\n",
       "  'clever',\n",
       "  'click',\n",
       "  'clock',\n",
       "  'clos',\n",
       "  'close',\n",
       "  'closed',\n",
       "  'closer',\n",
       "  'closes',\n",
       "  'clothes',\n",
       "  'club',\n",
       "  'cm',\n",
       "  'cme',\n",
       "  'cn',\n",
       "  'cnn',\n",
       "  'co',\n",
       "  'coast',\n",
       "  'coat',\n",
       "  'cochin',\n",
       "  'cock',\n",
       "  'code',\n",
       "  'coffee',\n",
       "  'coin',\n",
       "  'coins',\n",
       "  'cold',\n",
       "  'colleagues',\n",
       "  'collect',\n",
       "  'collected',\n",
       "  'collecting',\n",
       "  'collection',\n",
       "  'college',\n",
       "  'color',\n",
       "  'colour',\n",
       "  'colours',\n",
       "  'com',\n",
       "  'combine',\n",
       "  'come',\n",
       "  'comedy',\n",
       "  'comes',\n",
       "  'comin',\n",
       "  'coming',\n",
       "  'commercial',\n",
       "  'common',\n",
       "  'community',\n",
       "  'comp',\n",
       "  'company',\n",
       "  'compare',\n",
       "  'competition',\n",
       "  'complaint',\n",
       "  'complete',\n",
       "  'completed',\n",
       "  'completely',\n",
       "  'complimentary',\n",
       "  'computer',\n",
       "  'comuk',\n",
       "  'concentrate',\n",
       "  'concert',\n",
       "  'condition',\n",
       "  'conditions',\n",
       "  'conducts',\n",
       "  'confidence',\n",
       "  'confirm',\n",
       "  'confirmd',\n",
       "  'confirmed',\n",
       "  'conform',\n",
       "  'confused',\n",
       "  'confuses',\n",
       "  'congrats',\n",
       "  'congratulations',\n",
       "  'connect',\n",
       "  'connection',\n",
       "  'connections',\n",
       "  'consider',\n",
       "  'considering',\n",
       "  'console',\n",
       "  'constant',\n",
       "  'constantly',\n",
       "  'contact',\n",
       "  'contacted',\n",
       "  'contacts',\n",
       "  'content',\n",
       "  'contents',\n",
       "  'continue',\n",
       "  'contract',\n",
       "  'control',\n",
       "  'convey',\n",
       "  'convinced',\n",
       "  'convincing',\n",
       "  'cook',\n",
       "  'cooked',\n",
       "  'cookies',\n",
       "  'cooking',\n",
       "  'cool',\n",
       "  'coping',\n",
       "  'copy',\n",
       "  'cornwall',\n",
       "  'correct',\n",
       "  'correction',\n",
       "  'cos',\n",
       "  'cost',\n",
       "  'costa',\n",
       "  'costing',\n",
       "  'costs',\n",
       "  'costå',\n",
       "  'could',\n",
       "  'count',\n",
       "  'countin',\n",
       "  'country',\n",
       "  'couple',\n",
       "  'courage',\n",
       "  'course',\n",
       "  'cousin',\n",
       "  'cover',\n",
       "  'covers',\n",
       "  'coz',\n",
       "  'cr',\n",
       "  'crab',\n",
       "  'crack',\n",
       "  'cramps',\n",
       "  'crap',\n",
       "  'crash',\n",
       "  'crave',\n",
       "  'craziest',\n",
       "  'crazy',\n",
       "  'cream',\n",
       "  'created',\n",
       "  'credit',\n",
       "  'credited',\n",
       "  'credits',\n",
       "  'creep',\n",
       "  'creepy',\n",
       "  'cricketer',\n",
       "  'crisis',\n",
       "  'crore',\n",
       "  'cross',\n",
       "  'croydon',\n",
       "  'cruise',\n",
       "  'cry',\n",
       "  'cs',\n",
       "  'csbcm',\n",
       "  'csh',\n",
       "  'ctxt',\n",
       "  'cud',\n",
       "  'cuddle',\n",
       "  'cuddling',\n",
       "  'cum',\n",
       "  'cup',\n",
       "  'curious',\n",
       "  'current',\n",
       "  'currently',\n",
       "  'curry',\n",
       "  'cust',\n",
       "  'custcare',\n",
       "  'custom',\n",
       "  'customer',\n",
       "  'customers',\n",
       "  'cut',\n",
       "  'cute',\n",
       "  'cutefrnd',\n",
       "  'cutting',\n",
       "  'cuz',\n",
       "  'cw',\n",
       "  'dad',\n",
       "  'daddy',\n",
       "  'dai',\n",
       "  'daily',\n",
       "  'damn',\n",
       "  'dan',\n",
       "  'dance',\n",
       "  'dancing',\n",
       "  'dare',\n",
       "  'dark',\n",
       "  'darlin',\n",
       "  'darling',\n",
       "  'darlings',\n",
       "  'darren',\n",
       "  'dat',\n",
       "  'date',\n",
       "  'datebox',\n",
       "  'dates',\n",
       "  'dating',\n",
       "  'dave',\n",
       "  'day',\n",
       "  'days',\n",
       "  'dbuk',\n",
       "  'de',\n",
       "  'dead',\n",
       "  'deal',\n",
       "  'dealer',\n",
       "  'dealing',\n",
       "  'dear',\n",
       "  'dearer',\n",
       "  'dearly',\n",
       "  'death',\n",
       "  'december',\n",
       "  'decide',\n",
       "  'decided',\n",
       "  'deciding',\n",
       "  'decimal',\n",
       "  'decision',\n",
       "  'decisions',\n",
       "  'dedicate',\n",
       "  'dedicated',\n",
       "  'deep',\n",
       "  'deepak',\n",
       "  'deeraj',\n",
       "  'def',\n",
       "  'defeat',\n",
       "  'definite',\n",
       "  'definitely',\n",
       "  'del',\n",
       "  'delay',\n",
       "  'delete',\n",
       "  'deleted',\n",
       "  'delhi',\n",
       "  'deliver',\n",
       "  'delivered',\n",
       "  'deliveredtomorrow',\n",
       "  'delivery',\n",
       "  'dem',\n",
       "  'demand',\n",
       "  'den',\n",
       "  'denis',\n",
       "  'department',\n",
       "  'depends',\n",
       "  'depressed',\n",
       "  'derek',\n",
       "  'desert',\n",
       "  'desires',\n",
       "  'desparate',\n",
       "  'desperate',\n",
       "  'despite',\n",
       "  'details',\n",
       "  'detroit',\n",
       "  'deus',\n",
       "  'develop',\n",
       "  'devouring',\n",
       "  'dey',\n",
       "  'dhina',\n",
       "  'dhoni',\n",
       "  'di',\n",
       "  'dial',\n",
       "  'diamonds',\n",
       "  'dick',\n",
       "  'dictionary',\n",
       "  'didnt',\n",
       "  'didnåõt',\n",
       "  'die',\n",
       "  'died',\n",
       "  'diet',\n",
       "  'diff',\n",
       "  'differ',\n",
       "  'difference',\n",
       "  'different',\n",
       "  'difficult',\n",
       "  'difficulties',\n",
       "  'dificult',\n",
       "  'digital',\n",
       "  'dignity',\n",
       "  'dime',\n",
       "  'din',\n",
       "  'ding',\n",
       "  'dining',\n",
       "  'dinner',\n",
       "  'dint',\n",
       "  'dippeditinadew',\n",
       "  'direct',\n",
       "  'directly',\n",
       "  'dirty',\n",
       "  'dis',\n",
       "  'disclose',\n",
       "  'disconnect',\n",
       "  'discount',\n",
       "  'discreet',\n",
       "  'discuss',\n",
       "  'discussed',\n",
       "  'dislikes',\n",
       "  'display',\n",
       "  'distance',\n",
       "  'distract',\n",
       "  'disturb',\n",
       "  'disturbing',\n",
       "  'division',\n",
       "  'divorce',\n",
       "  'diwali',\n",
       "  'dload',\n",
       "  'dnt',\n",
       "  'dobby',\n",
       "  'doc',\n",
       "  'docs',\n",
       "  'doctor',\n",
       "  'doesnt',\n",
       "  'dog',\n",
       "  'dogging',\n",
       "  'doggy',\n",
       "  'doin',\n",
       "  'dokey',\n",
       "  'dollar',\n",
       "  'dollars',\n",
       "  'donate',\n",
       "  'done',\n",
       "  'donno',\n",
       "  'dont',\n",
       "  'donåõt',\n",
       "  'door',\n",
       "  'doors',\n",
       "  'dorm',\n",
       "  'dot',\n",
       "  'double',\n",
       "  'doubt',\n",
       "  'dough',\n",
       "  'download',\n",
       "  'downloaded',\n",
       "  'downloads',\n",
       "  'dr',\n",
       "  'dracula',\n",
       "  'draw',\n",
       "  'dream',\n",
       "  'dreams',\n",
       "  'dress',\n",
       "  'dressed',\n",
       "  'dresser',\n",
       "  'drink',\n",
       "  'drinkin',\n",
       "  'drinking',\n",
       "  'drinks',\n",
       "  'drive',\n",
       "  'driver',\n",
       "  'drivin',\n",
       "  'driving',\n",
       "  'drms',\n",
       "  'drop',\n",
       "  'dropped',\n",
       "  'drove',\n",
       "  'drpd',\n",
       "  'drug',\n",
       "  'drugs',\n",
       "  'drunk',\n",
       "  'drunken',\n",
       "  'dry',\n",
       "  'ds',\n",
       "  'dt',\n",
       "  'dubsack',\n",
       "  'duchess',\n",
       "  'dude',\n",
       "  'due',\n",
       "  'dumb',\n",
       "  'dun',\n",
       "  'dunno',\n",
       "  'durban',\n",
       "  'dvd',\n",
       "  'dx',\n",
       "  'ear',\n",
       "  'earlier',\n",
       "  'early',\n",
       "  'earn',\n",
       "  'earth',\n",
       "  'easier',\n",
       "  'easily',\n",
       "  'east',\n",
       "  'eastenders',\n",
       "  'easter',\n",
       "  'easy',\n",
       "  'eat',\n",
       "  'eaten',\n",
       "  'eatin',\n",
       "  'eating',\n",
       "  'ebay',\n",
       "  'ec',\n",
       "  'edge',\n",
       "  'edison',\n",
       "  'edu',\n",
       "  'educational',\n",
       "  'ee',\n",
       "  'eek',\n",
       "  'eerie',\n",
       "  'effect',\n",
       "  'effects',\n",
       "  'eg',\n",
       "  'egg',\n",
       "  'eggs',\n",
       "  'eh',\n",
       "  'eight',\n",
       "  'eighth',\n",
       "  'eire',\n",
       "  'either',\n",
       "  'ela',\n",
       "  'elaine',\n",
       "  'electricity',\n",
       "  'else',\n",
       "  'elsewhere',\n",
       "  'em',\n",
       "  'email',\n",
       "  'embarassed',\n",
       "  'empty',\n",
       "  'en',\n",
       "  'end',\n",
       "  'ended',\n",
       "  'ending',\n",
       "  'ends',\n",
       "  'enemy',\n",
       "  'energy',\n",
       "  'eng',\n",
       "  'engin',\n",
       "  'england',\n",
       "  'english',\n",
       "  'enjoy',\n",
       "  'enjoyed',\n",
       "  'enough',\n",
       "  'enter',\n",
       "  'entered',\n",
       "  'entitled',\n",
       "  'entry',\n",
       "  'enuff',\n",
       "  'envelope',\n",
       "  'environment',\n",
       "  'epsilon',\n",
       "  'er',\n",
       "  'ericsson',\n",
       "  'erm',\n",
       "  'error',\n",
       "  ...],\n",
       " array([[ 0.,  0.,  0., ...,  0.,  0.,  0.],\n",
       "        [ 0.,  0.,  0., ...,  0.,  0.,  0.],\n",
       "        [ 0.,  0.,  0., ...,  0.,  0.,  0.],\n",
       "        ..., \n",
       "        [ 0.,  0.,  0., ...,  0.,  0.,  0.],\n",
       "        [ 0.,  0.,  0., ...,  0.,  0.,  0.],\n",
       "        [ 0.,  0.,  0., ...,  0.,  0.,  0.]]))"
      ]
     },
     "execution_count": 40,
     "metadata": {},
     "output_type": "execute_result"
    }
   ],
   "source": [
    "%time count_vectorizer(final_texts)"
   ]
  },
  {
   "cell_type": "code",
   "execution_count": 41,
   "metadata": {},
   "outputs": [
    {
     "name": "stdout",
     "output_type": "stream",
     "text": [
      "3761\n",
      "['____', 'aah', 'aathi', 'abi', 'ability', 'abiola', 'abj', 'able', 'absolutly', 'abt', 'abta', 'aburo', 'ac', 'academic', 'acc', 'accept', 'access', 'accident', 'accidentally', 'accordingly', 'account', 'accounts', 'ache', 'acl', 'aco', 'across', 'acted', 'action', 'activate', 'active', 'activities', 'actor', 'actual', 'actually', 'ad', 'adam', 'add', 'addamsfa', 'added', 'addicted', 'addie', 'address', 'admin', 'administrator', 'admirer', 'admit', 'adore', 'adoring', 'ads', 'adult', 'advance', 'adventure', 'advice', 'advise', 'ae', 'aeronautics', 'aeroplane', 'affair', 'affairs', 'affection', 'afraid', 'aft', 'afternoon', 'aftr', 'ag', 'agalla', 'age', 'ages', 'ago', 'agree', 'ah', 'aha', 'ahead', 'ahmad', 'ai', 'aight', 'aint', 'air', 'airport', 'airtel', 'aiya', 'aiyah', 'aiyar', 'aiyo', 'aj', 'aka', 'al', 'alaipayuthe', 'album', 'alcohol', 'alert', 'alex', 'alfie', 'algarve', 'ali', 'alive', 'allah', 'allow', 'allowed', 'almost']\n"
     ]
    },
    {
     "data": {
      "text/plain": [
       "(5572, 3761)"
      ]
     },
     "execution_count": 41,
     "metadata": {},
     "output_type": "execute_result"
    }
   ],
   "source": [
    "x, y = count_vectorizer(final_texts)\n",
    "print(len(x))\n",
    "print(x[:100])\n",
    "y.shape"
   ]
  },
  {
   "cell_type": "code",
   "execution_count": 42,
   "metadata": {
    "collapsed": true
   },
   "outputs": [],
   "source": [
    "from sklearn.feature_extraction.text import CountVectorizer\n",
    "\n",
    "Cvectorizer = CountVectorizer()\n",
    "\n",
    "nice_try = Cvectorizer.fit_transform(pr_txt_Fclss['text'])\n"
   ]
  },
  {
   "cell_type": "code",
   "execution_count": 43,
   "metadata": {},
   "outputs": [
    {
     "name": "stdout",
     "output_type": "stream",
     "text": [
      "3761 words <class 'list'>\n",
      "['____', 'aah', 'aathi', 'abi', 'ability', 'abiola', 'abj', 'able', 'absolutly', 'abt', 'abta', 'aburo', 'ac', 'academic', 'acc', 'accept', 'access', 'accident', 'accidentally', 'accordingly', 'account', 'accounts', 'ache', 'acl', 'aco', 'across', 'acted', 'action', 'activate', 'active', 'activities', 'actor', 'actual', 'actually', 'ad', 'adam', 'add', 'addamsfa', 'added', 'addicted', 'addie', 'address', 'admin', 'administrator', 'admirer', 'admit', 'adore', 'adoring', 'ads', 'adult', 'advance', 'adventure', 'advice', 'advise', 'ae', 'aeronautics', 'aeroplane', 'affair', 'affairs', 'affection', 'afraid', 'aft', 'afternoon', 'aftr', 'ag', 'agalla', 'age', 'ages', 'ago', 'agree', 'ah', 'aha', 'ahead', 'ahmad', 'ai', 'aight', 'aint', 'air', 'airport', 'airtel', 'aiya', 'aiyah', 'aiyar', 'aiyo', 'aj', 'aka', 'al', 'alaipayuthe', 'album', 'alcohol', 'alert', 'alex', 'alfie', 'algarve', 'ali', 'alive', 'allah', 'allow', 'allowed', 'almost']\n"
     ]
    },
    {
     "data": {
      "text/plain": [
       "(5572, 3761)"
      ]
     },
     "execution_count": 43,
     "metadata": {},
     "output_type": "execute_result"
    }
   ],
   "source": [
    "words = Cvectorizer.get_feature_names()\n",
    "print(len(words), 'words', type(words))\n",
    "print(words[:100])\n",
    "nice_try.shape"
   ]
  },
  {
   "cell_type": "code",
   "execution_count": 44,
   "metadata": {},
   "outputs": [
    {
     "name": "stdout",
     "output_type": "stream",
     "text": [
      "ì\n",
      "b\n",
      "û\n",
      "v\n",
      "l\n",
      "g\n",
      "e\n",
      "_\n",
      "q\n",
      "j\n",
      "x\n",
      "h\n",
      "f\n",
      "c\n",
      "w\n"
     ]
    }
   ],
   "source": [
    "#вот почему удаляем слова длиной в 1 букву:\n",
    "for w in final_dictinary.keys():\n",
    "    if w not in words:\n",
    "        print(w)"
   ]
  },
  {
   "cell_type": "markdown",
   "metadata": {
    "collapsed": true
   },
   "source": [
    "Задача 8 (5 баллов). Представление с использованием TfIdf\n",
    "Задание аналогичное заданию 7, но теперь признаки должны содержать значение tf-idf.\n",
    "Реализация должна быть на numpy.array, а не на списках!\n",
    "Аналогичная функция также содержится в sklearn.feature_extraction.text"
   ]
  },
  {
   "cell_type": "code",
   "execution_count": 45,
   "metadata": {
    "collapsed": true
   },
   "outputs": [],
   "source": [
    "def tfidf_vectorizer(texts):\n",
    "    texts = final_texts\n",
    "    words = []\n",
    "\n",
    "    for txt in texts:\n",
    "        for w in txt.split():\n",
    "            if len(w) != 1:\n",
    "                words.append(w)\n",
    "\n",
    "    bag_of_words = set(words)\n",
    "    features_names = list(bag_of_words)\n",
    "    features_names.sort()\n",
    "\n",
    "    tf_matrix = np.zeros((len(texts), len(features_names)))\n",
    "\n",
    "    wd_in_texts = np.zeros(len(features_names))\n",
    "\n",
    "    for text in texts:\n",
    "        for wd in text.split():\n",
    "            if len(wd) != 1:\n",
    "                tf_matrix[texts.index(text), features_names.index(wd)] = text.count(w) / len(text)\n",
    "                wd_in_texts[features_names.index(wd)] += 1\n",
    "\n",
    "\n",
    "\n",
    "    len_txt_array = np.zeros(len(features_names)) + len(texts)\n",
    "\n",
    "    idf_array = wd_in_texts / len_txt_array\n",
    "\n",
    "    count_features_without_log = tf_matrix * idf_array\n",
    "    count_features = np.log(count_features_without_log)\n",
    "   \n",
    "    return features_names, count_features"
   ]
  },
  {
   "cell_type": "code",
   "execution_count": 46,
   "metadata": {},
   "outputs": [
    {
     "name": "stdout",
     "output_type": "stream",
     "text": [
      "CPU times: user 4.43 s, sys: 160 ms, total: 4.59 s\n",
      "Wall time: 4.6 s\n"
     ]
    },
    {
     "name": "stderr",
     "output_type": "stream",
     "text": [
      "/opt/conda/lib/python3.6/site-packages/ipykernel_launcher.py:31: RuntimeWarning: divide by zero encountered in log\n"
     ]
    }
   ],
   "source": [
    "%time x2, y2 = tfidf_vectorizer(pr_txt_Fclss['text'])\n"
   ]
  },
  {
   "cell_type": "code",
   "execution_count": 229,
   "metadata": {
    "collapsed": true
   },
   "outputs": [],
   "source": [
    "from sklearn.feature_extraction.text import TfidfVectorizer\n",
    "\n",
    "TIvectorizer = TfidfVectorizer()\n",
    "\n",
    "nice_try2 = TIvectorizer.fit_transform(pr_txt_Fclss['text'])\n",
    "\n",
    "words2 = TIvectorizer.get_feature_names()"
   ]
  },
  {
   "cell_type": "markdown",
   "metadata": {},
   "source": [
    "Задача 9 (10 баллов). Решение задачи классификации\n",
    "Теперь с помощью наших представлений и метода K ближайших соседей (KNN) научимся вычислять спам.\n",
    "Пусть X -- вектора признаков (полученные с помощью CountVectorizer или TfidfVectorizer), y -- вектор ответов (в нашем случае колонка class в таблице).\n",
    "Разделите (X, y) на обучающую выворку (X_train, y_train) (70%) и на тестовую -- (X_test, y_test) (30%). Разделить выборку можно вручную, но лучше воспользоваться train_test_split.\n",
    "Далее обучите классификатор на (X_train, y_train) -- это делается с помощью метода fit. Затем получите y_pred (результат классификации) на тесте X_test с помощью метода predict. После чего сравните получившийся результат y_pred и y_test (правельные метки классов) с помощью функции accuracy_score.\n",
    "Поиграйте с параметром n_neighbors у KNN -- добейтесь наилучшего результата классификации.\n",
    "Сравните качество классификации для представлений"
   ]
  },
  {
   "cell_type": "code",
   "execution_count": 230,
   "metadata": {},
   "outputs": [
    {
     "data": {
      "text/plain": [
       "0.88815789473684215"
      ]
     },
     "execution_count": 230,
     "metadata": {},
     "output_type": "execute_result"
    }
   ],
   "source": [
    "from sklearn.neighbors import KNeighborsClassifier\n",
    "from sklearn.neighbors import NearestNeighbors\n",
    "from sklearn.model_selection import train_test_split\n",
    "from sklearn.metrics import accuracy_score\n",
    "\n",
    "X_train1, X_test1, y_train1, y_test1 = train_test_split(nice_try, pr_txt_Fclss['class'],\n",
    "                                                        test_size=0.30)\n",
    "neigh = KNeighborsClassifier(n_neighbors = 10)\n",
    "learn = neigh.fit(X_train1, y_train1)\n",
    "\n",
    "y_pred1 = neigh.predict(X_test1)\n",
    "accuracy_score(y_test1, y_pred1)\n",
    "\n"
   ]
  },
  {
   "cell_type": "code",
   "execution_count": 231,
   "metadata": {},
   "outputs": [
    {
     "data": {
      "text/plain": [
       "0.89055023923444976"
      ]
     },
     "execution_count": 231,
     "metadata": {},
     "output_type": "execute_result"
    }
   ],
   "source": [
    "X_train2, X_test2, y_train2, y_test2 = train_test_split(nice_try2, pr_txt_Fclss['class'],\n",
    "                                                        test_size=0.30)\n",
    "neigh2 = KNeighborsClassifier(n_neighbors = 10)\n",
    "learn2 = neigh2.fit(X_train2, y_train2)\n",
    "\n",
    "y_pred2 = neigh2.predict(X_test2)\n",
    "accuracy_score(y_test2, y_pred2)"
   ]
  },
  {
   "cell_type": "markdown",
   "metadata": {},
   "source": [
    "При дефолтном значении n_neighbors = 5, KNN accuracy(CV) = 0.92105263157894735 и KNN accuracy(tfidf) = 0.90251196172248804\n",
    "n_neightbors = 3: KNN accuracy(CV) = 0.93002392344497609, KNN accuracy(tfidf) = 0.92165071770334928\n",
    "n_neightbors = 2: KNN accuracy(CV) = 0.92165071770334928, KNN accuracy(tfidf) = 0.90849282296650713\n",
    "n_neightbors = 1: KNN accuracy(CV) = 0.95873205741626799, KNN accuracy(tfidf) = 0.95454545454545459\n",
    "n_neightbors = 7: KNN accuracy(CV) = 0.91208133971291872, KNN accuracy(tfidf) = 0.90849282296650713\n",
    "n_neightbors = 10: KNN accuracy(CV) = 0.87918660287081341, KNN accuracy(tfidf) = 0.88755980861244022\n",
    "\n",
    "Самым точным оказались показатели при n_neightbors = 1"
   ]
  },
  {
   "cell_type": "code",
   "execution_count": null,
   "metadata": {
    "collapsed": true
   },
   "outputs": [],
   "source": []
  }
 ],
 "metadata": {
  "kernelspec": {
   "display_name": "Python 3",
   "language": "python",
   "name": "python3"
  },
  "language_info": {
   "codemirror_mode": {
    "name": "ipython",
    "version": 3
   },
   "file_extension": ".py",
   "mimetype": "text/x-python",
   "name": "python",
   "nbconvert_exporter": "python",
   "pygments_lexer": "ipython3",
   "version": "3.6.2"
  }
 },
 "nbformat": 4,
 "nbformat_minor": 2
}
